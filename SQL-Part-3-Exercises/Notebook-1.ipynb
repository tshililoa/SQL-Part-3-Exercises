{
    "metadata": {
        "kernelspec": {
            "name": "SQL",
            "display_name": "SQL",
            "language": "sql"
        },
        "language_info": {
            "name": "sql",
            "version": ""
        },
        "extensions": {
            "azuredatastudio": {
                "version": 1,
                "views": []
            }
        }
    },
    "nbformat_minor": 2,
    "nbformat": 4,
    "cells": [
        {
            "cell_type": "markdown",
            "source": [
                "# SQL Part 3 Exercises Joins\n",
                "\n",
                "This notebook works with the BooksDB dataset.  \n",
                "\n",
                "**Questions 1-4** focus on how joins work in a more general sense.  If you are not sure how to best answer the questions, try manipulating the queries by changing the order of joins, the length of the TOP, or how they are ordered.  \n",
                "\n",
                "> <span style=\"background-color: rgba(127, 127, 127, 0.1);\"><i>Note</i>: If some of the queries are not returning quickly, you can try closing and restarting azure data studio after a few minutes.</span>\n",
                "\n",
                "In **questions 5-8**, you will be asked to join tables to find results about titles, tags, and the books users want to read.\n",
                "\n",
                "As you go through the questions, you will see 'Minimum Desired Output'.  This will provide you with the bare minimum columns needed to answer the questions.  When you write the queries, add as many additional columns as you need to best find your answers."
            ],
            "metadata": {
                "azdata_cell_guid": "db9534a9-c8a7-4c09-8180-bcba0690bb02"
            },
            "attachments": {}
        },
        {
            "cell_type": "markdown",
            "source": [
                "## **QUESTION 1:**  Exploring a LEFT JOIN using the **books** and **to\\_read** tables\n",
                "\n",
                "The code block below has been commented out. To answer this question, you will need to uncomment it by removing the **/\\*** (line 1) and **\\*/** (line 16).\n",
                "\n",
                "**Part A:** Look at Query 1, which table is the 'Left' table and which is the 'Right'?\n",
                "\n",
                "> Your Answer: dbo.books is Left table and  to\\_read is Right table\n",
                "\n",
                "**Part B:** Using table 2, answer the following questions: \n",
                "\n",
                "- When we added a  '**WHERE tr.user\\_id IS NOT NULL'** clause (line 14), how did the table change?  Why?\n",
                "\n",
                "> Your Answer: the query returned only the rows without NULL values for to\\_read user\\_id."
            ],
            "metadata": {
                "azdata_cell_guid": "660be568-9a70-40ff-a2fa-a78e31e87b6f"
            },
            "attachments": {}
        },
        {
            "cell_type": "code",
            "source": [
                "-- Query 1: LEFT JOIN \n",
                "SELECT TOP 50 b.title, b.average_rating, b.books_count,tr.user_id, tr.book_id\n",
                "FROM BooksDB.dbo.books AS b\n",
                "LEFT JOIN BooksDB.dbo.to_read AS tr\n",
                "ON b.best_book_id = tr.book_id\n",
                "ORDER BY b.average_rating;\n",
                "\n",
                "-- Query 2: LEFT JOIN USING 'IS NOT NULL'\n",
                "SELECT TOP 50 b.title, b.average_rating, b.books_count,tr.user_id, tr.book_id\n",
                "FROM BooksDB.dbo.books AS b\n",
                "LEFT JOIN BooksDB.dbo.to_read AS tr\n",
                "ON b.best_book_id = tr.book_id\n",
                "WHERE tr.user_id IS NOT NULL\n",
                "ORDER BY b.average_rating;\n",
                ""
            ],
            "metadata": {
                "azdata_cell_guid": "25dcd34c-5e5d-4393-9da0-a4c0effb6455",
                "tags": [],
                "language": "sql"
            },
            "outputs": [
                {
                    "output_type": "display_data",
                    "data": {
                        "text/html": "(50 rows affected)"
                    },
                    "metadata": {}
                },
                {
                    "output_type": "display_data",
                    "data": {
                        "text/html": "(50 rows affected)"
                    },
                    "metadata": {}
                },
                {
                    "output_type": "display_data",
                    "data": {
                        "text/html": "Total execution time: 00:00:07.100"
                    },
                    "metadata": {}
                },
                {
                    "output_type": "execute_result",
                    "metadata": {},
                    "execution_count": 2,
                    "data": {
                        "application/vnd.dataresource+json": {
                            "schema": {
                                "fields": [
                                    {
                                        "name": "title"
                                    },
                                    {
                                        "name": "average_rating"
                                    },
                                    {
                                        "name": "books_count"
                                    },
                                    {
                                        "name": "user_id"
                                    },
                                    {
                                        "name": "book_id"
                                    }
                                ]
                            },
                            "data": [
                                {
                                    "0": "One Night at the Call Center",
                                    "1": "2.47",
                                    "2": "25",
                                    "3": "NULL",
                                    "4": "NULL"
                                },
                                {
                                    "0": "The Almost Moon",
                                    "1": "2.67",
                                    "2": "63",
                                    "3": "NULL",
                                    "4": "NULL"
                                },
                                {
                                    "0": "The Finkler Question",
                                    "1": "2.76",
                                    "2": "45",
                                    "3": "NULL",
                                    "4": "NULL"
                                },
                                {
                                    "0": "Four Blondes",
                                    "1": "2.8",
                                    "2": "57",
                                    "3": "449",
                                    "4": "6613"
                                },
                                {
                                    "0": "Four Blondes",
                                    "1": "2.8",
                                    "2": "57",
                                    "3": "1378",
                                    "4": "6613"
                                },
                                {
                                    "0": "Four Blondes",
                                    "1": "2.8",
                                    "2": "57",
                                    "3": "6465",
                                    "4": "6613"
                                },
                                {
                                    "0": "Four Blondes",
                                    "1": "2.8",
                                    "2": "57",
                                    "3": "6700",
                                    "4": "6613"
                                },
                                {
                                    "0": "Four Blondes",
                                    "1": "2.8",
                                    "2": "57",
                                    "3": "7830",
                                    "4": "6613"
                                },
                                {
                                    "0": "Four Blondes",
                                    "1": "2.8",
                                    "2": "57",
                                    "3": "10085",
                                    "4": "6613"
                                },
                                {
                                    "0": "Four Blondes",
                                    "1": "2.8",
                                    "2": "57",
                                    "3": "16298",
                                    "4": "6613"
                                },
                                {
                                    "0": "Four Blondes",
                                    "1": "2.8",
                                    "2": "57",
                                    "3": "16845",
                                    "4": "6613"
                                },
                                {
                                    "0": "Four Blondes",
                                    "1": "2.8",
                                    "2": "57",
                                    "3": "17470",
                                    "4": "6613"
                                },
                                {
                                    "0": "Four Blondes",
                                    "1": "2.8",
                                    "2": "57",
                                    "3": "19763",
                                    "4": "6613"
                                },
                                {
                                    "0": "Four Blondes",
                                    "1": "2.8",
                                    "2": "57",
                                    "3": "21938",
                                    "4": "6613"
                                },
                                {
                                    "0": "Four Blondes",
                                    "1": "2.8",
                                    "2": "57",
                                    "3": "22289",
                                    "4": "6613"
                                },
                                {
                                    "0": "Four Blondes",
                                    "1": "2.8",
                                    "2": "57",
                                    "3": "23758",
                                    "4": "6613"
                                },
                                {
                                    "0": "Four Blondes",
                                    "1": "2.8",
                                    "2": "57",
                                    "3": "27874",
                                    "4": "6613"
                                },
                                {
                                    "0": "Four Blondes",
                                    "1": "2.8",
                                    "2": "57",
                                    "3": "28690",
                                    "4": "6613"
                                },
                                {
                                    "0": "Four Blondes",
                                    "1": "2.8",
                                    "2": "57",
                                    "3": "29023",
                                    "4": "6613"
                                },
                                {
                                    "0": "Four Blondes",
                                    "1": "2.8",
                                    "2": "57",
                                    "3": "29315",
                                    "4": "6613"
                                },
                                {
                                    "0": "Four Blondes",
                                    "1": "2.8",
                                    "2": "57",
                                    "3": "30245",
                                    "4": "6613"
                                },
                                {
                                    "0": "Four Blondes",
                                    "1": "2.8",
                                    "2": "57",
                                    "3": "36128",
                                    "4": "6613"
                                },
                                {
                                    "0": "Four Blondes",
                                    "1": "2.8",
                                    "2": "57",
                                    "3": "36554",
                                    "4": "6613"
                                },
                                {
                                    "0": "Four Blondes",
                                    "1": "2.8",
                                    "2": "57",
                                    "3": "38159",
                                    "4": "6613"
                                },
                                {
                                    "0": "Four Blondes",
                                    "1": "2.8",
                                    "2": "57",
                                    "3": "38800",
                                    "4": "6613"
                                },
                                {
                                    "0": "Four Blondes",
                                    "1": "2.8",
                                    "2": "57",
                                    "3": "40361",
                                    "4": "6613"
                                },
                                {
                                    "0": "Four Blondes",
                                    "1": "2.8",
                                    "2": "57",
                                    "3": "40529",
                                    "4": "6613"
                                },
                                {
                                    "0": "Four Blondes",
                                    "1": "2.8",
                                    "2": "57",
                                    "3": "41485",
                                    "4": "6613"
                                },
                                {
                                    "0": "Four Blondes",
                                    "1": "2.8",
                                    "2": "57",
                                    "3": "42706",
                                    "4": "6613"
                                },
                                {
                                    "0": "Four Blondes",
                                    "1": "2.8",
                                    "2": "57",
                                    "3": "45206",
                                    "4": "6613"
                                },
                                {
                                    "0": "Four Blondes",
                                    "1": "2.8",
                                    "2": "57",
                                    "3": "45689",
                                    "4": "6613"
                                },
                                {
                                    "0": "Four Blondes",
                                    "1": "2.8",
                                    "2": "57",
                                    "3": "49499",
                                    "4": "6613"
                                },
                                {
                                    "0": "Four Blondes",
                                    "1": "2.8",
                                    "2": "57",
                                    "3": "51105",
                                    "4": "6613"
                                },
                                {
                                    "0": "Four Blondes",
                                    "1": "2.8",
                                    "2": "57",
                                    "3": "51671",
                                    "4": "6613"
                                },
                                {
                                    "0": "Four Blondes",
                                    "1": "2.8",
                                    "2": "57",
                                    "3": "52109",
                                    "4": "6613"
                                },
                                {
                                    "0": "Lost",
                                    "1": "2.8",
                                    "2": "18",
                                    "3": "NULL",
                                    "4": "NULL"
                                },
                                {
                                    "0": "Tell-All",
                                    "1": "2.84",
                                    "2": "37",
                                    "3": "NULL",
                                    "4": "NULL"
                                },
                                {
                                    "0": "Revenge Wears Prada: The Devil Returns (The Devil Wears Prada, #2)",
                                    "1": "2.84",
                                    "2": "59",
                                    "3": "NULL",
                                    "4": "NULL"
                                },
                                {
                                    "0": "Among the Ten Thousand Things",
                                    "1": "2.84",
                                    "2": "19",
                                    "3": "NULL",
                                    "4": "NULL"
                                },
                                {
                                    "0": "The Emperor's Children",
                                    "1": "2.93",
                                    "2": "45",
                                    "3": "7860",
                                    "4": "3648"
                                },
                                {
                                    "0": "The Emperor's Children",
                                    "1": "2.93",
                                    "2": "45",
                                    "3": "11320",
                                    "4": "3648"
                                },
                                {
                                    "0": "The Emperor's Children",
                                    "1": "2.93",
                                    "2": "45",
                                    "3": "12686",
                                    "4": "3648"
                                },
                                {
                                    "0": "The Emperor's Children",
                                    "1": "2.93",
                                    "2": "45",
                                    "3": "12729",
                                    "4": "3648"
                                },
                                {
                                    "0": "The Emperor's Children",
                                    "1": "2.93",
                                    "2": "45",
                                    "3": "12891",
                                    "4": "3648"
                                },
                                {
                                    "0": "The Emperor's Children",
                                    "1": "2.93",
                                    "2": "45",
                                    "3": "16933",
                                    "4": "3648"
                                },
                                {
                                    "0": "The Emperor's Children",
                                    "1": "2.93",
                                    "2": "45",
                                    "3": "17093",
                                    "4": "3648"
                                },
                                {
                                    "0": "The Emperor's Children",
                                    "1": "2.93",
                                    "2": "45",
                                    "3": "24036",
                                    "4": "3648"
                                },
                                {
                                    "0": "The Emperor's Children",
                                    "1": "2.93",
                                    "2": "45",
                                    "3": "35122",
                                    "4": "3648"
                                },
                                {
                                    "0": "The Emperor's Children",
                                    "1": "2.93",
                                    "2": "45",
                                    "3": "36022",
                                    "4": "3648"
                                },
                                {
                                    "0": "The Emperor's Children",
                                    "1": "2.93",
                                    "2": "45",
                                    "3": "36952",
                                    "4": "3648"
                                }
                            ]
                        },
                        "text/html": [
                            "<table>",
                            "<tr><th>title</th><th>average_rating</th><th>books_count</th><th>user_id</th><th>book_id</th></tr>",
                            "<tr><td>One Night at the Call Center</td><td>2.47</td><td>25</td><td>NULL</td><td>NULL</td></tr>",
                            "<tr><td>The Almost Moon</td><td>2.67</td><td>63</td><td>NULL</td><td>NULL</td></tr>",
                            "<tr><td>The Finkler Question</td><td>2.76</td><td>45</td><td>NULL</td><td>NULL</td></tr>",
                            "<tr><td>Four Blondes</td><td>2.8</td><td>57</td><td>449</td><td>6613</td></tr>",
                            "<tr><td>Four Blondes</td><td>2.8</td><td>57</td><td>1378</td><td>6613</td></tr>",
                            "<tr><td>Four Blondes</td><td>2.8</td><td>57</td><td>6465</td><td>6613</td></tr>",
                            "<tr><td>Four Blondes</td><td>2.8</td><td>57</td><td>6700</td><td>6613</td></tr>",
                            "<tr><td>Four Blondes</td><td>2.8</td><td>57</td><td>7830</td><td>6613</td></tr>",
                            "<tr><td>Four Blondes</td><td>2.8</td><td>57</td><td>10085</td><td>6613</td></tr>",
                            "<tr><td>Four Blondes</td><td>2.8</td><td>57</td><td>16298</td><td>6613</td></tr>",
                            "<tr><td>Four Blondes</td><td>2.8</td><td>57</td><td>16845</td><td>6613</td></tr>",
                            "<tr><td>Four Blondes</td><td>2.8</td><td>57</td><td>17470</td><td>6613</td></tr>",
                            "<tr><td>Four Blondes</td><td>2.8</td><td>57</td><td>19763</td><td>6613</td></tr>",
                            "<tr><td>Four Blondes</td><td>2.8</td><td>57</td><td>21938</td><td>6613</td></tr>",
                            "<tr><td>Four Blondes</td><td>2.8</td><td>57</td><td>22289</td><td>6613</td></tr>",
                            "<tr><td>Four Blondes</td><td>2.8</td><td>57</td><td>23758</td><td>6613</td></tr>",
                            "<tr><td>Four Blondes</td><td>2.8</td><td>57</td><td>27874</td><td>6613</td></tr>",
                            "<tr><td>Four Blondes</td><td>2.8</td><td>57</td><td>28690</td><td>6613</td></tr>",
                            "<tr><td>Four Blondes</td><td>2.8</td><td>57</td><td>29023</td><td>6613</td></tr>",
                            "<tr><td>Four Blondes</td><td>2.8</td><td>57</td><td>29315</td><td>6613</td></tr>",
                            "<tr><td>Four Blondes</td><td>2.8</td><td>57</td><td>30245</td><td>6613</td></tr>",
                            "<tr><td>Four Blondes</td><td>2.8</td><td>57</td><td>36128</td><td>6613</td></tr>",
                            "<tr><td>Four Blondes</td><td>2.8</td><td>57</td><td>36554</td><td>6613</td></tr>",
                            "<tr><td>Four Blondes</td><td>2.8</td><td>57</td><td>38159</td><td>6613</td></tr>",
                            "<tr><td>Four Blondes</td><td>2.8</td><td>57</td><td>38800</td><td>6613</td></tr>",
                            "<tr><td>Four Blondes</td><td>2.8</td><td>57</td><td>40361</td><td>6613</td></tr>",
                            "<tr><td>Four Blondes</td><td>2.8</td><td>57</td><td>40529</td><td>6613</td></tr>",
                            "<tr><td>Four Blondes</td><td>2.8</td><td>57</td><td>41485</td><td>6613</td></tr>",
                            "<tr><td>Four Blondes</td><td>2.8</td><td>57</td><td>42706</td><td>6613</td></tr>",
                            "<tr><td>Four Blondes</td><td>2.8</td><td>57</td><td>45206</td><td>6613</td></tr>",
                            "<tr><td>Four Blondes</td><td>2.8</td><td>57</td><td>45689</td><td>6613</td></tr>",
                            "<tr><td>Four Blondes</td><td>2.8</td><td>57</td><td>49499</td><td>6613</td></tr>",
                            "<tr><td>Four Blondes</td><td>2.8</td><td>57</td><td>51105</td><td>6613</td></tr>",
                            "<tr><td>Four Blondes</td><td>2.8</td><td>57</td><td>51671</td><td>6613</td></tr>",
                            "<tr><td>Four Blondes</td><td>2.8</td><td>57</td><td>52109</td><td>6613</td></tr>",
                            "<tr><td>Lost</td><td>2.8</td><td>18</td><td>NULL</td><td>NULL</td></tr>",
                            "<tr><td>Tell-All</td><td>2.84</td><td>37</td><td>NULL</td><td>NULL</td></tr>",
                            "<tr><td>Revenge Wears Prada: The Devil Returns (The Devil Wears Prada, #2)</td><td>2.84</td><td>59</td><td>NULL</td><td>NULL</td></tr>",
                            "<tr><td>Among the Ten Thousand Things</td><td>2.84</td><td>19</td><td>NULL</td><td>NULL</td></tr>",
                            "<tr><td>The Emperor's Children</td><td>2.93</td><td>45</td><td>7860</td><td>3648</td></tr>",
                            "<tr><td>The Emperor's Children</td><td>2.93</td><td>45</td><td>11320</td><td>3648</td></tr>",
                            "<tr><td>The Emperor's Children</td><td>2.93</td><td>45</td><td>12686</td><td>3648</td></tr>",
                            "<tr><td>The Emperor's Children</td><td>2.93</td><td>45</td><td>12729</td><td>3648</td></tr>",
                            "<tr><td>The Emperor's Children</td><td>2.93</td><td>45</td><td>12891</td><td>3648</td></tr>",
                            "<tr><td>The Emperor's Children</td><td>2.93</td><td>45</td><td>16933</td><td>3648</td></tr>",
                            "<tr><td>The Emperor's Children</td><td>2.93</td><td>45</td><td>17093</td><td>3648</td></tr>",
                            "<tr><td>The Emperor's Children</td><td>2.93</td><td>45</td><td>24036</td><td>3648</td></tr>",
                            "<tr><td>The Emperor's Children</td><td>2.93</td><td>45</td><td>35122</td><td>3648</td></tr>",
                            "<tr><td>The Emperor's Children</td><td>2.93</td><td>45</td><td>36022</td><td>3648</td></tr>",
                            "<tr><td>The Emperor's Children</td><td>2.93</td><td>45</td><td>36952</td><td>3648</td></tr>",
                            "</table>"
                        ]
                    }
                },
                {
                    "output_type": "execute_result",
                    "metadata": {},
                    "execution_count": 2,
                    "data": {
                        "application/vnd.dataresource+json": {
                            "schema": {
                                "fields": [
                                    {
                                        "name": "title"
                                    },
                                    {
                                        "name": "average_rating"
                                    },
                                    {
                                        "name": "books_count"
                                    },
                                    {
                                        "name": "user_id"
                                    },
                                    {
                                        "name": "book_id"
                                    }
                                ]
                            },
                            "data": [
                                {
                                    "0": "Four Blondes",
                                    "1": "2.8",
                                    "2": "57",
                                    "3": "449",
                                    "4": "6613"
                                },
                                {
                                    "0": "Four Blondes",
                                    "1": "2.8",
                                    "2": "57",
                                    "3": "1378",
                                    "4": "6613"
                                },
                                {
                                    "0": "Four Blondes",
                                    "1": "2.8",
                                    "2": "57",
                                    "3": "6465",
                                    "4": "6613"
                                },
                                {
                                    "0": "Four Blondes",
                                    "1": "2.8",
                                    "2": "57",
                                    "3": "6700",
                                    "4": "6613"
                                },
                                {
                                    "0": "Four Blondes",
                                    "1": "2.8",
                                    "2": "57",
                                    "3": "7830",
                                    "4": "6613"
                                },
                                {
                                    "0": "Four Blondes",
                                    "1": "2.8",
                                    "2": "57",
                                    "3": "10085",
                                    "4": "6613"
                                },
                                {
                                    "0": "Four Blondes",
                                    "1": "2.8",
                                    "2": "57",
                                    "3": "16298",
                                    "4": "6613"
                                },
                                {
                                    "0": "Four Blondes",
                                    "1": "2.8",
                                    "2": "57",
                                    "3": "16845",
                                    "4": "6613"
                                },
                                {
                                    "0": "Four Blondes",
                                    "1": "2.8",
                                    "2": "57",
                                    "3": "17470",
                                    "4": "6613"
                                },
                                {
                                    "0": "Four Blondes",
                                    "1": "2.8",
                                    "2": "57",
                                    "3": "19763",
                                    "4": "6613"
                                },
                                {
                                    "0": "Four Blondes",
                                    "1": "2.8",
                                    "2": "57",
                                    "3": "21938",
                                    "4": "6613"
                                },
                                {
                                    "0": "Four Blondes",
                                    "1": "2.8",
                                    "2": "57",
                                    "3": "22289",
                                    "4": "6613"
                                },
                                {
                                    "0": "Four Blondes",
                                    "1": "2.8",
                                    "2": "57",
                                    "3": "23758",
                                    "4": "6613"
                                },
                                {
                                    "0": "Four Blondes",
                                    "1": "2.8",
                                    "2": "57",
                                    "3": "27874",
                                    "4": "6613"
                                },
                                {
                                    "0": "Four Blondes",
                                    "1": "2.8",
                                    "2": "57",
                                    "3": "28690",
                                    "4": "6613"
                                },
                                {
                                    "0": "Four Blondes",
                                    "1": "2.8",
                                    "2": "57",
                                    "3": "29023",
                                    "4": "6613"
                                },
                                {
                                    "0": "Four Blondes",
                                    "1": "2.8",
                                    "2": "57",
                                    "3": "29315",
                                    "4": "6613"
                                },
                                {
                                    "0": "Four Blondes",
                                    "1": "2.8",
                                    "2": "57",
                                    "3": "30245",
                                    "4": "6613"
                                },
                                {
                                    "0": "Four Blondes",
                                    "1": "2.8",
                                    "2": "57",
                                    "3": "36128",
                                    "4": "6613"
                                },
                                {
                                    "0": "Four Blondes",
                                    "1": "2.8",
                                    "2": "57",
                                    "3": "36554",
                                    "4": "6613"
                                },
                                {
                                    "0": "Four Blondes",
                                    "1": "2.8",
                                    "2": "57",
                                    "3": "38159",
                                    "4": "6613"
                                },
                                {
                                    "0": "Four Blondes",
                                    "1": "2.8",
                                    "2": "57",
                                    "3": "38800",
                                    "4": "6613"
                                },
                                {
                                    "0": "Four Blondes",
                                    "1": "2.8",
                                    "2": "57",
                                    "3": "40361",
                                    "4": "6613"
                                },
                                {
                                    "0": "Four Blondes",
                                    "1": "2.8",
                                    "2": "57",
                                    "3": "40529",
                                    "4": "6613"
                                },
                                {
                                    "0": "Four Blondes",
                                    "1": "2.8",
                                    "2": "57",
                                    "3": "41485",
                                    "4": "6613"
                                },
                                {
                                    "0": "Four Blondes",
                                    "1": "2.8",
                                    "2": "57",
                                    "3": "42706",
                                    "4": "6613"
                                },
                                {
                                    "0": "Four Blondes",
                                    "1": "2.8",
                                    "2": "57",
                                    "3": "45206",
                                    "4": "6613"
                                },
                                {
                                    "0": "Four Blondes",
                                    "1": "2.8",
                                    "2": "57",
                                    "3": "45689",
                                    "4": "6613"
                                },
                                {
                                    "0": "Four Blondes",
                                    "1": "2.8",
                                    "2": "57",
                                    "3": "49499",
                                    "4": "6613"
                                },
                                {
                                    "0": "Four Blondes",
                                    "1": "2.8",
                                    "2": "57",
                                    "3": "51105",
                                    "4": "6613"
                                },
                                {
                                    "0": "Four Blondes",
                                    "1": "2.8",
                                    "2": "57",
                                    "3": "51671",
                                    "4": "6613"
                                },
                                {
                                    "0": "Four Blondes",
                                    "1": "2.8",
                                    "2": "57",
                                    "3": "52109",
                                    "4": "6613"
                                },
                                {
                                    "0": "The Emperor's Children",
                                    "1": "2.93",
                                    "2": "45",
                                    "3": "7860",
                                    "4": "3648"
                                },
                                {
                                    "0": "The Emperor's Children",
                                    "1": "2.93",
                                    "2": "45",
                                    "3": "11320",
                                    "4": "3648"
                                },
                                {
                                    "0": "The Emperor's Children",
                                    "1": "2.93",
                                    "2": "45",
                                    "3": "12686",
                                    "4": "3648"
                                },
                                {
                                    "0": "The Emperor's Children",
                                    "1": "2.93",
                                    "2": "45",
                                    "3": "12729",
                                    "4": "3648"
                                },
                                {
                                    "0": "The Emperor's Children",
                                    "1": "2.93",
                                    "2": "45",
                                    "3": "12891",
                                    "4": "3648"
                                },
                                {
                                    "0": "The Emperor's Children",
                                    "1": "2.93",
                                    "2": "45",
                                    "3": "16933",
                                    "4": "3648"
                                },
                                {
                                    "0": "The Emperor's Children",
                                    "1": "2.93",
                                    "2": "45",
                                    "3": "17093",
                                    "4": "3648"
                                },
                                {
                                    "0": "The Emperor's Children",
                                    "1": "2.93",
                                    "2": "45",
                                    "3": "24036",
                                    "4": "3648"
                                },
                                {
                                    "0": "The Emperor's Children",
                                    "1": "2.93",
                                    "2": "45",
                                    "3": "35122",
                                    "4": "3648"
                                },
                                {
                                    "0": "The Emperor's Children",
                                    "1": "2.93",
                                    "2": "45",
                                    "3": "36022",
                                    "4": "3648"
                                },
                                {
                                    "0": "The Emperor's Children",
                                    "1": "2.93",
                                    "2": "45",
                                    "3": "36952",
                                    "4": "3648"
                                },
                                {
                                    "0": "The Emperor's Children",
                                    "1": "2.93",
                                    "2": "45",
                                    "3": "38430",
                                    "4": "3648"
                                },
                                {
                                    "0": "The Emperor's Children",
                                    "1": "2.93",
                                    "2": "45",
                                    "3": "39414",
                                    "4": "3648"
                                },
                                {
                                    "0": "The Emperor's Children",
                                    "1": "2.93",
                                    "2": "45",
                                    "3": "45261",
                                    "4": "3648"
                                },
                                {
                                    "0": "The Emperor's Children",
                                    "1": "2.93",
                                    "2": "45",
                                    "3": "45497",
                                    "4": "3648"
                                },
                                {
                                    "0": "The Emperor's Children",
                                    "1": "2.93",
                                    "2": "45",
                                    "3": "45747",
                                    "4": "3648"
                                },
                                {
                                    "0": "The Emperor's Children",
                                    "1": "2.93",
                                    "2": "45",
                                    "3": "48502",
                                    "4": "3648"
                                },
                                {
                                    "0": "The Emperor's Children",
                                    "1": "2.93",
                                    "2": "45",
                                    "3": "49233",
                                    "4": "3648"
                                }
                            ]
                        },
                        "text/html": [
                            "<table>",
                            "<tr><th>title</th><th>average_rating</th><th>books_count</th><th>user_id</th><th>book_id</th></tr>",
                            "<tr><td>Four Blondes</td><td>2.8</td><td>57</td><td>449</td><td>6613</td></tr>",
                            "<tr><td>Four Blondes</td><td>2.8</td><td>57</td><td>1378</td><td>6613</td></tr>",
                            "<tr><td>Four Blondes</td><td>2.8</td><td>57</td><td>6465</td><td>6613</td></tr>",
                            "<tr><td>Four Blondes</td><td>2.8</td><td>57</td><td>6700</td><td>6613</td></tr>",
                            "<tr><td>Four Blondes</td><td>2.8</td><td>57</td><td>7830</td><td>6613</td></tr>",
                            "<tr><td>Four Blondes</td><td>2.8</td><td>57</td><td>10085</td><td>6613</td></tr>",
                            "<tr><td>Four Blondes</td><td>2.8</td><td>57</td><td>16298</td><td>6613</td></tr>",
                            "<tr><td>Four Blondes</td><td>2.8</td><td>57</td><td>16845</td><td>6613</td></tr>",
                            "<tr><td>Four Blondes</td><td>2.8</td><td>57</td><td>17470</td><td>6613</td></tr>",
                            "<tr><td>Four Blondes</td><td>2.8</td><td>57</td><td>19763</td><td>6613</td></tr>",
                            "<tr><td>Four Blondes</td><td>2.8</td><td>57</td><td>21938</td><td>6613</td></tr>",
                            "<tr><td>Four Blondes</td><td>2.8</td><td>57</td><td>22289</td><td>6613</td></tr>",
                            "<tr><td>Four Blondes</td><td>2.8</td><td>57</td><td>23758</td><td>6613</td></tr>",
                            "<tr><td>Four Blondes</td><td>2.8</td><td>57</td><td>27874</td><td>6613</td></tr>",
                            "<tr><td>Four Blondes</td><td>2.8</td><td>57</td><td>28690</td><td>6613</td></tr>",
                            "<tr><td>Four Blondes</td><td>2.8</td><td>57</td><td>29023</td><td>6613</td></tr>",
                            "<tr><td>Four Blondes</td><td>2.8</td><td>57</td><td>29315</td><td>6613</td></tr>",
                            "<tr><td>Four Blondes</td><td>2.8</td><td>57</td><td>30245</td><td>6613</td></tr>",
                            "<tr><td>Four Blondes</td><td>2.8</td><td>57</td><td>36128</td><td>6613</td></tr>",
                            "<tr><td>Four Blondes</td><td>2.8</td><td>57</td><td>36554</td><td>6613</td></tr>",
                            "<tr><td>Four Blondes</td><td>2.8</td><td>57</td><td>38159</td><td>6613</td></tr>",
                            "<tr><td>Four Blondes</td><td>2.8</td><td>57</td><td>38800</td><td>6613</td></tr>",
                            "<tr><td>Four Blondes</td><td>2.8</td><td>57</td><td>40361</td><td>6613</td></tr>",
                            "<tr><td>Four Blondes</td><td>2.8</td><td>57</td><td>40529</td><td>6613</td></tr>",
                            "<tr><td>Four Blondes</td><td>2.8</td><td>57</td><td>41485</td><td>6613</td></tr>",
                            "<tr><td>Four Blondes</td><td>2.8</td><td>57</td><td>42706</td><td>6613</td></tr>",
                            "<tr><td>Four Blondes</td><td>2.8</td><td>57</td><td>45206</td><td>6613</td></tr>",
                            "<tr><td>Four Blondes</td><td>2.8</td><td>57</td><td>45689</td><td>6613</td></tr>",
                            "<tr><td>Four Blondes</td><td>2.8</td><td>57</td><td>49499</td><td>6613</td></tr>",
                            "<tr><td>Four Blondes</td><td>2.8</td><td>57</td><td>51105</td><td>6613</td></tr>",
                            "<tr><td>Four Blondes</td><td>2.8</td><td>57</td><td>51671</td><td>6613</td></tr>",
                            "<tr><td>Four Blondes</td><td>2.8</td><td>57</td><td>52109</td><td>6613</td></tr>",
                            "<tr><td>The Emperor's Children</td><td>2.93</td><td>45</td><td>7860</td><td>3648</td></tr>",
                            "<tr><td>The Emperor's Children</td><td>2.93</td><td>45</td><td>11320</td><td>3648</td></tr>",
                            "<tr><td>The Emperor's Children</td><td>2.93</td><td>45</td><td>12686</td><td>3648</td></tr>",
                            "<tr><td>The Emperor's Children</td><td>2.93</td><td>45</td><td>12729</td><td>3648</td></tr>",
                            "<tr><td>The Emperor's Children</td><td>2.93</td><td>45</td><td>12891</td><td>3648</td></tr>",
                            "<tr><td>The Emperor's Children</td><td>2.93</td><td>45</td><td>16933</td><td>3648</td></tr>",
                            "<tr><td>The Emperor's Children</td><td>2.93</td><td>45</td><td>17093</td><td>3648</td></tr>",
                            "<tr><td>The Emperor's Children</td><td>2.93</td><td>45</td><td>24036</td><td>3648</td></tr>",
                            "<tr><td>The Emperor's Children</td><td>2.93</td><td>45</td><td>35122</td><td>3648</td></tr>",
                            "<tr><td>The Emperor's Children</td><td>2.93</td><td>45</td><td>36022</td><td>3648</td></tr>",
                            "<tr><td>The Emperor's Children</td><td>2.93</td><td>45</td><td>36952</td><td>3648</td></tr>",
                            "<tr><td>The Emperor's Children</td><td>2.93</td><td>45</td><td>38430</td><td>3648</td></tr>",
                            "<tr><td>The Emperor's Children</td><td>2.93</td><td>45</td><td>39414</td><td>3648</td></tr>",
                            "<tr><td>The Emperor's Children</td><td>2.93</td><td>45</td><td>45261</td><td>3648</td></tr>",
                            "<tr><td>The Emperor's Children</td><td>2.93</td><td>45</td><td>45497</td><td>3648</td></tr>",
                            "<tr><td>The Emperor's Children</td><td>2.93</td><td>45</td><td>45747</td><td>3648</td></tr>",
                            "<tr><td>The Emperor's Children</td><td>2.93</td><td>45</td><td>48502</td><td>3648</td></tr>",
                            "<tr><td>The Emperor's Children</td><td>2.93</td><td>45</td><td>49233</td><td>3648</td></tr>",
                            "</table>"
                        ]
                    }
                }
            ],
            "execution_count": 2
        },
        {
            "cell_type": "markdown",
            "source": [
                "## **QUESTION 2:** Exploring **RIGHT** joins with the **books** and **to\\_read** tables\n",
                "\n",
                "You will need to uncomment the Query to answer the question.\n",
                "\n",
                "**Part A:** Looking at the query, which table is the 'Left' and which is the 'Right'?\n",
                "\n",
                "> Your Answer: dbo.books is Left table and dbo.to\\_read is Right table\n",
                "\n",
                "**Part B:** How do the RIGHT-joined tables differ from the LEFT-joined tables in Question 1?  \n",
                "\n",
                "> Your Answer: with Right join, all the rows from the to\\_read table are returned and those that are not connected from the books table returned NULL while in Left join all rows from the books table are returned, and those that are not connected from to\\_read returned NULL."
            ],
            "metadata": {
                "azdata_cell_guid": "c1e417d9-89d2-4a7d-ab46-b43c8bddc54f"
            },
            "attachments": {}
        },
        {
            "cell_type": "code",
            "source": [
                "\n",
                "-- Query 1: RIGHT JOIN\n",
                "SELECT TOP 300 b.title, b.average_rating, b.books_count, tr.user_id, tr.book_id\n",
                "FROM BooksDB.dbo.books AS b\n",
                "RIGHT JOIN BooksDB.dbo.to_read AS tr\n",
                "ON b.best_book_id = tr.book_id;\n",
                ""
            ],
            "metadata": {
                "azdata_cell_guid": "8cf020b8-2a76-46a6-acff-97eb1acc7fed",
                "tags": [],
                "language": "sql"
            },
            "outputs": [
                {
                    "output_type": "display_data",
                    "data": {
                        "text/html": "(300 rows affected)"
                    },
                    "metadata": {}
                },
                {
                    "output_type": "display_data",
                    "data": {
                        "text/html": "Total execution time: 00:00:00.127"
                    },
                    "metadata": {}
                },
                {
                    "output_type": "execute_result",
                    "metadata": {},
                    "execution_count": 3,
                    "data": {
                        "application/vnd.dataresource+json": {
                            "schema": {
                                "fields": [
                                    {
                                        "name": "title"
                                    },
                                    {
                                        "name": "average_rating"
                                    },
                                    {
                                        "name": "books_count"
                                    },
                                    {
                                        "name": "user_id"
                                    },
                                    {
                                        "name": "book_id"
                                    }
                                ]
                            },
                            "data": [
                                {
                                    "0": "Children of Dune (Dune Chronicles #3)",
                                    "1": "3.9",
                                    "2": "116",
                                    "3": "1",
                                    "4": "112"
                                },
                                {
                                    "0": "NULL",
                                    "1": "NULL",
                                    "2": "NULL",
                                    "3": "1",
                                    "4": "235"
                                },
                                {
                                    "0": "NULL",
                                    "1": "NULL",
                                    "2": "NULL",
                                    "3": "1",
                                    "4": "533"
                                },
                                {
                                    "0": "NULL",
                                    "1": "NULL",
                                    "2": "NULL",
                                    "3": "1",
                                    "4": "1198"
                                },
                                {
                                    "0": "NULL",
                                    "1": "NULL",
                                    "2": "NULL",
                                    "3": "1",
                                    "4": "1874"
                                },
                                {
                                    "0": "NULL",
                                    "1": "NULL",
                                    "2": "NULL",
                                    "3": "1",
                                    "4": "2058"
                                },
                                {
                                    "0": "NULL",
                                    "1": "NULL",
                                    "2": "NULL",
                                    "3": "1",
                                    "4": "3334"
                                },
                                {
                                    "0": "NULL",
                                    "1": "NULL",
                                    "2": "NULL",
                                    "3": "2",
                                    "4": "4"
                                },
                                {
                                    "0": "NULL",
                                    "1": "NULL",
                                    "2": "NULL",
                                    "3": "2",
                                    "4": "11"
                                },
                                {
                                    "0": "The Ultimate Hitchhiker's Guide to the Galaxy",
                                    "1": "4.37",
                                    "2": "32",
                                    "3": "2",
                                    "4": "13"
                                },
                                {
                                    "0": "NULL",
                                    "1": "NULL",
                                    "2": "NULL",
                                    "3": "2",
                                    "4": "16"
                                },
                                {
                                    "0": "NULL",
                                    "1": "NULL",
                                    "2": "NULL",
                                    "3": "2",
                                    "4": "92"
                                },
                                {
                                    "0": "Dune Messiah (Dune Chronicles #2)",
                                    "1": "3.86",
                                    "2": "140",
                                    "3": "2",
                                    "4": "106"
                                },
                                {
                                    "0": "NULL",
                                    "1": "NULL",
                                    "2": "NULL",
                                    "3": "2",
                                    "4": "113"
                                },
                                {
                                    "0": "NULL",
                                    "1": "NULL",
                                    "2": "NULL",
                                    "3": "2",
                                    "4": "233"
                                },
                                {
                                    "0": "NULL",
                                    "1": "NULL",
                                    "2": "NULL",
                                    "3": "2",
                                    "4": "247"
                                },
                                {
                                    "0": "NULL",
                                    "1": "NULL",
                                    "2": "NULL",
                                    "3": "2",
                                    "4": "380"
                                },
                                {
                                    "0": "NULL",
                                    "1": "NULL",
                                    "2": "NULL",
                                    "3": "2",
                                    "4": "408"
                                },
                                {
                                    "0": "NULL",
                                    "1": "NULL",
                                    "2": "NULL",
                                    "3": "2",
                                    "4": "439"
                                },
                                {
                                    "0": "NULL",
                                    "1": "NULL",
                                    "2": "NULL",
                                    "3": "2",
                                    "4": "479"
                                },
                                {
                                    "0": "NULL",
                                    "1": "NULL",
                                    "2": "NULL",
                                    "3": "2",
                                    "4": "516"
                                },
                                {
                                    "0": "NULL",
                                    "1": "NULL",
                                    "2": "NULL",
                                    "3": "2",
                                    "4": "619"
                                },
                                {
                                    "0": "NULL",
                                    "1": "NULL",
                                    "2": "NULL",
                                    "3": "2",
                                    "4": "1069"
                                },
                                {
                                    "0": "The Iliad",
                                    "1": "3.83",
                                    "2": "1726",
                                    "3": "2",
                                    "4": "1371"
                                },
                                {
                                    "0": "NULL",
                                    "1": "NULL",
                                    "2": "NULL",
                                    "3": "2",
                                    "4": "1384"
                                },
                                {
                                    "0": "NULL",
                                    "1": "NULL",
                                    "2": "NULL",
                                    "3": "2",
                                    "4": "1597"
                                },
                                {
                                    "0": "NULL",
                                    "1": "NULL",
                                    "2": "NULL",
                                    "3": "2",
                                    "4": "1926"
                                },
                                {
                                    "0": "NULL",
                                    "1": "NULL",
                                    "2": "NULL",
                                    "3": "2",
                                    "4": "1967"
                                },
                                {
                                    "0": "NULL",
                                    "1": "NULL",
                                    "2": "NULL",
                                    "3": "2",
                                    "4": "1969"
                                },
                                {
                                    "0": "NULL",
                                    "1": "NULL",
                                    "2": "NULL",
                                    "3": "2",
                                    "4": "2220"
                                },
                                {
                                    "0": "NULL",
                                    "1": "NULL",
                                    "2": "NULL",
                                    "3": "2",
                                    "4": "2388"
                                },
                                {
                                    "0": "NULL",
                                    "1": "NULL",
                                    "2": "NULL",
                                    "3": "2",
                                    "4": "3222"
                                },
                                {
                                    "0": "NULL",
                                    "1": "NULL",
                                    "2": "NULL",
                                    "3": "2",
                                    "4": "3227"
                                },
                                {
                                    "0": "NULL",
                                    "1": "NULL",
                                    "2": "NULL",
                                    "3": "2",
                                    "4": "3733"
                                },
                                {
                                    "0": "NULL",
                                    "1": "NULL",
                                    "2": "NULL",
                                    "3": "2",
                                    "4": "5418"
                                },
                                {
                                    "0": "NULL",
                                    "1": "NULL",
                                    "2": "NULL",
                                    "3": "2",
                                    "4": "6937"
                                },
                                {
                                    "0": "NULL",
                                    "1": "NULL",
                                    "2": "NULL",
                                    "3": "2",
                                    "4": "7146"
                                },
                                {
                                    "0": "NULL",
                                    "1": "NULL",
                                    "2": "NULL",
                                    "3": "2",
                                    "4": "7873"
                                },
                                {
                                    "0": "NULL",
                                    "1": "NULL",
                                    "2": "NULL",
                                    "3": "2",
                                    "4": "8417"
                                },
                                {
                                    "0": "Harry Potter Collection (Harry Potter, #1-6)",
                                    "1": "4.73",
                                    "2": "6",
                                    "3": "3",
                                    "4": "10"
                                },
                                {
                                    "0": "NULL",
                                    "1": "NULL",
                                    "2": "NULL",
                                    "3": "3",
                                    "4": "66"
                                },
                                {
                                    "0": "NULL",
                                    "1": "NULL",
                                    "2": "NULL",
                                    "3": "3",
                                    "4": "233"
                                },
                                {
                                    "0": "NULL",
                                    "1": "NULL",
                                    "2": "NULL",
                                    "3": "3",
                                    "4": "726"
                                },
                                {
                                    "0": "NULL",
                                    "1": "NULL",
                                    "2": "NULL",
                                    "3": "3",
                                    "4": "932"
                                },
                                {
                                    "0": "NULL",
                                    "1": "NULL",
                                    "2": "NULL",
                                    "3": "3",
                                    "4": "1146"
                                },
                                {
                                    "0": "NULL",
                                    "1": "NULL",
                                    "2": "NULL",
                                    "3": "3",
                                    "4": "2439"
                                },
                                {
                                    "0": "NULL",
                                    "1": "NULL",
                                    "2": "NULL",
                                    "3": "3",
                                    "4": "3566"
                                },
                                {
                                    "0": "NULL",
                                    "1": "NULL",
                                    "2": "NULL",
                                    "3": "3",
                                    "4": "4582"
                                },
                                {
                                    "0": "NULL",
                                    "1": "NULL",
                                    "2": "NULL",
                                    "3": "3",
                                    "4": "5448"
                                },
                                {
                                    "0": "NULL",
                                    "1": "NULL",
                                    "2": "NULL",
                                    "3": "3",
                                    "4": "5765"
                                },
                                {
                                    "0": "NULL",
                                    "1": "NULL",
                                    "2": "NULL",
                                    "3": "3",
                                    "4": "6274"
                                },
                                {
                                    "0": "NULL",
                                    "1": "NULL",
                                    "2": "NULL",
                                    "3": "3",
                                    "4": "8403"
                                },
                                {
                                    "0": "NULL",
                                    "1": "NULL",
                                    "2": "NULL",
                                    "3": "5",
                                    "4": "31"
                                },
                                {
                                    "0": "The Virtue of Selfishness: A New Concept of Egoism",
                                    "1": "3.47",
                                    "2": "53",
                                    "3": "5",
                                    "4": "665"
                                },
                                {
                                    "0": "NULL",
                                    "1": "NULL",
                                    "2": "NULL",
                                    "3": "5",
                                    "4": "3074"
                                },
                                {
                                    "0": "Sherlock Holmes: The Complete Novels and Stories, Volume I",
                                    "1": "4.45",
                                    "2": "13",
                                    "3": "5",
                                    "4": "3581"
                                },
                                {
                                    "0": "NULL",
                                    "1": "NULL",
                                    "2": "NULL",
                                    "3": "6",
                                    "4": "64"
                                },
                                {
                                    "0": "NULL",
                                    "1": "NULL",
                                    "2": "NULL",
                                    "3": "6",
                                    "4": "459"
                                },
                                {
                                    "0": "NULL",
                                    "1": "NULL",
                                    "2": "NULL",
                                    "3": "6",
                                    "4": "619"
                                },
                                {
                                    "0": "NULL",
                                    "1": "NULL",
                                    "2": "NULL",
                                    "3": "6",
                                    "4": "649"
                                },
                                {
                                    "0": "NULL",
                                    "1": "NULL",
                                    "2": "NULL",
                                    "3": "6",
                                    "4": "687"
                                },
                                {
                                    "0": "NULL",
                                    "1": "NULL",
                                    "2": "NULL",
                                    "3": "6",
                                    "4": "874"
                                },
                                {
                                    "0": "The War of Art: Break Through the Blocks & Win Your Inner Creative Battles",
                                    "1": "4.07",
                                    "2": "29",
                                    "3": "6",
                                    "4": "1319"
                                },
                                {
                                    "0": "NULL",
                                    "1": "NULL",
                                    "2": "NULL",
                                    "3": "6",
                                    "4": "1912"
                                },
                                {
                                    "0": "NULL",
                                    "1": "NULL",
                                    "2": "NULL",
                                    "3": "6",
                                    "4": "5269"
                                },
                                {
                                    "0": "NULL",
                                    "1": "NULL",
                                    "2": "NULL",
                                    "3": "6",
                                    "4": "5537"
                                },
                                {
                                    "0": "NULL",
                                    "1": "NULL",
                                    "2": "NULL",
                                    "3": "6",
                                    "4": "5820"
                                },
                                {
                                    "0": "NULL",
                                    "1": "NULL",
                                    "2": "NULL",
                                    "3": "6",
                                    "4": "6220"
                                },
                                {
                                    "0": "NULL",
                                    "1": "NULL",
                                    "2": "NULL",
                                    "3": "6",
                                    "4": "7480"
                                },
                                {
                                    "0": "Harry Potter Collection (Harry Potter, #1-6)",
                                    "1": "4.73",
                                    "2": "6",
                                    "3": "7",
                                    "4": "10"
                                },
                                {
                                    "0": "NULL",
                                    "1": "NULL",
                                    "2": "NULL",
                                    "3": "7",
                                    "4": "215"
                                },
                                {
                                    "0": "NULL",
                                    "1": "NULL",
                                    "2": "NULL",
                                    "3": "7",
                                    "4": "225"
                                },
                                {
                                    "0": "NULL",
                                    "1": "NULL",
                                    "2": "NULL",
                                    "3": "7",
                                    "4": "233"
                                },
                                {
                                    "0": "NULL",
                                    "1": "NULL",
                                    "2": "NULL",
                                    "3": "7",
                                    "4": "1322"
                                },
                                {
                                    "0": "NULL",
                                    "1": "NULL",
                                    "2": "NULL",
                                    "3": "7",
                                    "4": "3552"
                                },
                                {
                                    "0": "NULL",
                                    "1": "NULL",
                                    "2": "NULL",
                                    "3": "7",
                                    "4": "3720"
                                },
                                {
                                    "0": "NULL",
                                    "1": "NULL",
                                    "2": "NULL",
                                    "3": "7",
                                    "4": "4468"
                                },
                                {
                                    "0": "NULL",
                                    "1": "NULL",
                                    "2": "NULL",
                                    "3": "8",
                                    "4": "19"
                                },
                                {
                                    "0": "NULL",
                                    "1": "NULL",
                                    "2": "NULL",
                                    "3": "8",
                                    "4": "498"
                                },
                                {
                                    "0": "NULL",
                                    "1": "NULL",
                                    "2": "NULL",
                                    "3": "8",
                                    "4": "1357"
                                },
                                {
                                    "0": "NULL",
                                    "1": "NULL",
                                    "2": "NULL",
                                    "3": "8",
                                    "4": "2177"
                                },
                                {
                                    "0": "NULL",
                                    "1": "NULL",
                                    "2": "NULL",
                                    "3": "8",
                                    "4": "3930"
                                },
                                {
                                    "0": "The Pilgrimage",
                                    "1": "3.64",
                                    "2": "171",
                                    "3": "8",
                                    "4": "4004"
                                },
                                {
                                    "0": "NULL",
                                    "1": "NULL",
                                    "2": "NULL",
                                    "3": "8",
                                    "4": "8792"
                                },
                                {
                                    "0": "NULL",
                                    "1": "NULL",
                                    "2": "NULL",
                                    "3": "8",
                                    "4": "9304"
                                },
                                {
                                    "0": "Harry Potter Boxed Set, Books 1-5 (Harry Potter, #1-5)",
                                    "1": "4.77",
                                    "2": "11",
                                    "3": "9",
                                    "4": "8"
                                },
                                {
                                    "0": "Children of Dune (Dune Chronicles #3)",
                                    "1": "3.9",
                                    "2": "116",
                                    "3": "9",
                                    "4": "112"
                                },
                                {
                                    "0": "NULL",
                                    "1": "NULL",
                                    "2": "NULL",
                                    "3": "9",
                                    "4": "139"
                                },
                                {
                                    "0": "NULL",
                                    "1": "NULL",
                                    "2": "NULL",
                                    "3": "9",
                                    "4": "230"
                                },
                                {
                                    "0": "NULL",
                                    "1": "NULL",
                                    "2": "NULL",
                                    "3": "9",
                                    "4": "233"
                                },
                                {
                                    "0": "NULL",
                                    "1": "NULL",
                                    "2": "NULL",
                                    "3": "9",
                                    "4": "473"
                                },
                                {
                                    "0": "NULL",
                                    "1": "NULL",
                                    "2": "NULL",
                                    "3": "9",
                                    "4": "638"
                                },
                                {
                                    "0": "NULL",
                                    "1": "NULL",
                                    "2": "NULL",
                                    "3": "9",
                                    "4": "653"
                                },
                                {
                                    "0": "NULL",
                                    "1": "NULL",
                                    "2": "NULL",
                                    "3": "9",
                                    "4": "672"
                                },
                                {
                                    "0": "NULL",
                                    "1": "NULL",
                                    "2": "NULL",
                                    "3": "9",
                                    "4": "701"
                                },
                                {
                                    "0": "NULL",
                                    "1": "NULL",
                                    "2": "NULL",
                                    "3": "9",
                                    "4": "736"
                                },
                                {
                                    "0": "NULL",
                                    "1": "NULL",
                                    "2": "NULL",
                                    "3": "9",
                                    "4": "883"
                                },
                                {
                                    "0": "NULL",
                                    "1": "NULL",
                                    "2": "NULL",
                                    "3": "9",
                                    "4": "895"
                                },
                                {
                                    "0": "NULL",
                                    "1": "NULL",
                                    "2": "NULL",
                                    "3": "9",
                                    "4": "1467"
                                },
                                {
                                    "0": "NULL",
                                    "1": "NULL",
                                    "2": "NULL",
                                    "3": "9",
                                    "4": "1582"
                                },
                                {
                                    "0": "NULL",
                                    "1": "NULL",
                                    "2": "NULL",
                                    "3": "9",
                                    "4": "1873"
                                },
                                {
                                    "0": "NULL",
                                    "1": "NULL",
                                    "2": "NULL",
                                    "3": "9",
                                    "4": "2516"
                                },
                                {
                                    "0": "NULL",
                                    "1": "NULL",
                                    "2": "NULL",
                                    "3": "9",
                                    "4": "2630"
                                },
                                {
                                    "0": "NULL",
                                    "1": "NULL",
                                    "2": "NULL",
                                    "3": "9",
                                    "4": "3210"
                                },
                                {
                                    "0": "Icy Sparks",
                                    "1": "3.68",
                                    "2": "27",
                                    "3": "9",
                                    "4": "3476"
                                },
                                {
                                    "0": "NULL",
                                    "1": "NULL",
                                    "2": "NULL",
                                    "3": "9",
                                    "4": "3560"
                                },
                                {
                                    "0": "NULL",
                                    "1": "NULL",
                                    "2": "NULL",
                                    "3": "9",
                                    "4": "3650"
                                },
                                {
                                    "0": "NULL",
                                    "1": "NULL",
                                    "2": "NULL",
                                    "3": "9",
                                    "4": "5286"
                                },
                                {
                                    "0": "NULL",
                                    "1": "NULL",
                                    "2": "NULL",
                                    "3": "9",
                                    "4": "6636"
                                },
                                {
                                    "0": "Harry Potter and the Goblet of Fire (Harry Potter, #4)",
                                    "1": "4.53",
                                    "2": "332",
                                    "3": "10",
                                    "4": "6"
                                },
                                {
                                    "0": "NULL",
                                    "1": "NULL",
                                    "2": "NULL",
                                    "3": "10",
                                    "4": "385"
                                },
                                {
                                    "0": "Atlas Shrugged",
                                    "1": "3.68",
                                    "2": "147",
                                    "3": "10",
                                    "4": "662"
                                },
                                {
                                    "0": "NULL",
                                    "1": "NULL",
                                    "2": "NULL",
                                    "3": "10",
                                    "4": "896"
                                },
                                {
                                    "0": "NULL",
                                    "1": "NULL",
                                    "2": "NULL",
                                    "3": "10",
                                    "4": "1076"
                                },
                                {
                                    "0": "NULL",
                                    "1": "NULL",
                                    "2": "NULL",
                                    "3": "10",
                                    "4": "1082"
                                },
                                {
                                    "0": "NULL",
                                    "1": "NULL",
                                    "2": "NULL",
                                    "3": "10",
                                    "4": "1220"
                                },
                                {
                                    "0": "NULL",
                                    "1": "NULL",
                                    "2": "NULL",
                                    "3": "10",
                                    "4": "1281"
                                },
                                {
                                    "0": "NULL",
                                    "1": "NULL",
                                    "2": "NULL",
                                    "3": "10",
                                    "4": "1439"
                                },
                                {
                                    "0": "NULL",
                                    "1": "NULL",
                                    "2": "NULL",
                                    "3": "10",
                                    "4": "1851"
                                },
                                {
                                    "0": "NULL",
                                    "1": "NULL",
                                    "2": "NULL",
                                    "3": "10",
                                    "4": "1920"
                                },
                                {
                                    "0": "NULL",
                                    "1": "NULL",
                                    "2": "NULL",
                                    "3": "10",
                                    "4": "2441"
                                },
                                {
                                    "0": "NULL",
                                    "1": "NULL",
                                    "2": "NULL",
                                    "3": "10",
                                    "4": "2570"
                                },
                                {
                                    "0": "NULL",
                                    "1": "NULL",
                                    "2": "NULL",
                                    "3": "10",
                                    "4": "2616"
                                },
                                {
                                    "0": "NULL",
                                    "1": "NULL",
                                    "2": "NULL",
                                    "3": "10",
                                    "4": "3059"
                                },
                                {
                                    "0": "NULL",
                                    "1": "NULL",
                                    "2": "NULL",
                                    "3": "10",
                                    "4": "3545"
                                },
                                {
                                    "0": "NULL",
                                    "1": "NULL",
                                    "2": "NULL",
                                    "3": "10",
                                    "4": "3961"
                                },
                                {
                                    "0": "NULL",
                                    "1": "NULL",
                                    "2": "NULL",
                                    "3": "10",
                                    "4": "4369"
                                },
                                {
                                    "0": "NULL",
                                    "1": "NULL",
                                    "2": "NULL",
                                    "3": "10",
                                    "4": "4510"
                                },
                                {
                                    "0": "NULL",
                                    "1": "NULL",
                                    "2": "NULL",
                                    "3": "10",
                                    "4": "5104"
                                },
                                {
                                    "0": "NULL",
                                    "1": "NULL",
                                    "2": "NULL",
                                    "3": "10",
                                    "4": "5254"
                                },
                                {
                                    "0": "NULL",
                                    "1": "NULL",
                                    "2": "NULL",
                                    "3": "10",
                                    "4": "5556"
                                },
                                {
                                    "0": "NULL",
                                    "1": "NULL",
                                    "2": "NULL",
                                    "3": "10",
                                    "4": "6114"
                                },
                                {
                                    "0": "NULL",
                                    "1": "NULL",
                                    "2": "NULL",
                                    "3": "10",
                                    "4": "6917"
                                },
                                {
                                    "0": "NULL",
                                    "1": "NULL",
                                    "2": "NULL",
                                    "3": "10",
                                    "4": "7545"
                                },
                                {
                                    "0": "NULL",
                                    "1": "NULL",
                                    "2": "NULL",
                                    "3": "10",
                                    "4": "7842"
                                },
                                {
                                    "0": "NULL",
                                    "1": "NULL",
                                    "2": "NULL",
                                    "3": "11",
                                    "4": "3643"
                                },
                                {
                                    "0": "Harry Potter and the Half-Blood Prince (Harry Potter, #6)",
                                    "1": "4.54",
                                    "2": "275",
                                    "3": "12",
                                    "4": "1"
                                },
                                {
                                    "0": "NULL",
                                    "1": "NULL",
                                    "2": "NULL",
                                    "3": "12",
                                    "4": "124"
                                },
                                {
                                    "0": "NULL",
                                    "1": "NULL",
                                    "2": "NULL",
                                    "3": "12",
                                    "4": "1471"
                                },
                                {
                                    "0": "NULL",
                                    "1": "NULL",
                                    "2": "NULL",
                                    "3": "12",
                                    "4": "2893"
                                },
                                {
                                    "0": "NULL",
                                    "1": "NULL",
                                    "2": "NULL",
                                    "3": "13",
                                    "4": "81"
                                },
                                {
                                    "0": "NULL",
                                    "1": "NULL",
                                    "2": "NULL",
                                    "3": "13",
                                    "4": "277"
                                },
                                {
                                    "0": "NULL",
                                    "1": "NULL",
                                    "2": "NULL",
                                    "3": "13",
                                    "4": "318"
                                },
                                {
                                    "0": "NULL",
                                    "1": "NULL",
                                    "2": "NULL",
                                    "3": "13",
                                    "4": "430"
                                },
                                {
                                    "0": "NULL",
                                    "1": "NULL",
                                    "2": "NULL",
                                    "3": "13",
                                    "4": "437"
                                },
                                {
                                    "0": "NULL",
                                    "1": "NULL",
                                    "2": "NULL",
                                    "3": "13",
                                    "4": "551"
                                },
                                {
                                    "0": "NULL",
                                    "1": "NULL",
                                    "2": "NULL",
                                    "3": "13",
                                    "4": "560"
                                },
                                {
                                    "0": "NULL",
                                    "1": "NULL",
                                    "2": "NULL",
                                    "3": "13",
                                    "4": "610"
                                },
                                {
                                    "0": "NULL",
                                    "1": "NULL",
                                    "2": "NULL",
                                    "3": "13",
                                    "4": "678"
                                },
                                {
                                    "0": "NULL",
                                    "1": "NULL",
                                    "2": "NULL",
                                    "3": "13",
                                    "4": "979"
                                },
                                {
                                    "0": "NULL",
                                    "1": "NULL",
                                    "2": "NULL",
                                    "3": "13",
                                    "4": "1082"
                                },
                                {
                                    "0": "NULL",
                                    "1": "NULL",
                                    "2": "NULL",
                                    "3": "13",
                                    "4": "1464"
                                },
                                {
                                    "0": "NULL",
                                    "1": "NULL",
                                    "2": "NULL",
                                    "3": "13",
                                    "4": "1577"
                                },
                                {
                                    "0": "NULL",
                                    "1": "NULL",
                                    "2": "NULL",
                                    "3": "13",
                                    "4": "2018"
                                },
                                {
                                    "0": "NULL",
                                    "1": "NULL",
                                    "2": "NULL",
                                    "3": "13",
                                    "4": "2418"
                                },
                                {
                                    "0": "NULL",
                                    "1": "NULL",
                                    "2": "NULL",
                                    "3": "13",
                                    "4": "3257"
                                },
                                {
                                    "0": "NULL",
                                    "1": "NULL",
                                    "2": "NULL",
                                    "3": "13",
                                    "4": "4212"
                                },
                                {
                                    "0": "NULL",
                                    "1": "NULL",
                                    "2": "NULL",
                                    "3": "13",
                                    "4": "4635"
                                },
                                {
                                    "0": "NULL",
                                    "1": "NULL",
                                    "2": "NULL",
                                    "3": "13",
                                    "4": "4704"
                                },
                                {
                                    "0": "NULL",
                                    "1": "NULL",
                                    "2": "NULL",
                                    "3": "13",
                                    "4": "4734"
                                },
                                {
                                    "0": "NULL",
                                    "1": "NULL",
                                    "2": "NULL",
                                    "3": "13",
                                    "4": "4841"
                                },
                                {
                                    "0": "NULL",
                                    "1": "NULL",
                                    "2": "NULL",
                                    "3": "13",
                                    "4": "4848"
                                },
                                {
                                    "0": "NULL",
                                    "1": "NULL",
                                    "2": "NULL",
                                    "3": "13",
                                    "4": "4856"
                                },
                                {
                                    "0": "NULL",
                                    "1": "NULL",
                                    "2": "NULL",
                                    "3": "13",
                                    "4": "4928"
                                },
                                {
                                    "0": "NULL",
                                    "1": "NULL",
                                    "2": "NULL",
                                    "3": "13",
                                    "4": "6114"
                                },
                                {
                                    "0": "NULL",
                                    "1": "NULL",
                                    "2": "NULL",
                                    "3": "13",
                                    "4": "6793"
                                },
                                {
                                    "0": "NULL",
                                    "1": "NULL",
                                    "2": "NULL",
                                    "3": "13",
                                    "4": "6962"
                                },
                                {
                                    "0": "NULL",
                                    "1": "NULL",
                                    "2": "NULL",
                                    "3": "13",
                                    "4": "8717"
                                },
                                {
                                    "0": "NULL",
                                    "1": "NULL",
                                    "2": "NULL",
                                    "3": "14",
                                    "4": "493"
                                },
                                {
                                    "0": "NULL",
                                    "1": "NULL",
                                    "2": "NULL",
                                    "3": "14",
                                    "4": "1179"
                                },
                                {
                                    "0": "NULL",
                                    "1": "NULL",
                                    "2": "NULL",
                                    "3": "14",
                                    "4": "2693"
                                },
                                {
                                    "0": "Sherlock Holmes: The Complete Novels and Stories, Volume I",
                                    "1": "4.45",
                                    "2": "13",
                                    "3": "14",
                                    "4": "3581"
                                },
                                {
                                    "0": "NULL",
                                    "1": "NULL",
                                    "2": "NULL",
                                    "3": "14",
                                    "4": "3683"
                                },
                                {
                                    "0": "NULL",
                                    "1": "NULL",
                                    "2": "NULL",
                                    "3": "14",
                                    "4": "3953"
                                },
                                {
                                    "0": "NULL",
                                    "1": "NULL",
                                    "2": "NULL",
                                    "3": "14",
                                    "4": "4220"
                                },
                                {
                                    "0": "NULL",
                                    "1": "NULL",
                                    "2": "NULL",
                                    "3": "14",
                                    "4": "5076"
                                },
                                {
                                    "0": "NULL",
                                    "1": "NULL",
                                    "2": "NULL",
                                    "3": "14",
                                    "4": "5537"
                                },
                                {
                                    "0": "NULL",
                                    "1": "NULL",
                                    "2": "NULL",
                                    "3": "14",
                                    "4": "7777"
                                },
                                {
                                    "0": "NULL",
                                    "1": "NULL",
                                    "2": "NULL",
                                    "3": "15",
                                    "4": "191"
                                },
                                {
                                    "0": "The Lover",
                                    "1": "3.76",
                                    "2": "148",
                                    "3": "15",
                                    "4": "275"
                                },
                                {
                                    "0": "NULL",
                                    "1": "NULL",
                                    "2": "NULL",
                                    "3": "15",
                                    "4": "398"
                                },
                                {
                                    "0": "NULL",
                                    "1": "NULL",
                                    "2": "NULL",
                                    "3": "15",
                                    "4": "666"
                                },
                                {
                                    "0": "NULL",
                                    "1": "NULL",
                                    "2": "NULL",
                                    "3": "15",
                                    "4": "1491"
                                },
                                {
                                    "0": "NULL",
                                    "1": "NULL",
                                    "2": "NULL",
                                    "3": "15",
                                    "4": "5210"
                                },
                                {
                                    "0": "NULL",
                                    "1": "NULL",
                                    "2": "NULL",
                                    "3": "17",
                                    "4": "1344"
                                },
                                {
                                    "0": "The Good Soldier",
                                    "1": "3.72",
                                    "2": "362",
                                    "3": "20",
                                    "4": "7628"
                                },
                                {
                                    "0": "NULL",
                                    "1": "NULL",
                                    "2": "NULL",
                                    "3": "22",
                                    "4": "653"
                                },
                                {
                                    "0": "NULL",
                                    "1": "NULL",
                                    "2": "NULL",
                                    "3": "22",
                                    "4": "1403"
                                },
                                {
                                    "0": "NULL",
                                    "1": "NULL",
                                    "2": "NULL",
                                    "3": "22",
                                    "4": "1405"
                                },
                                {
                                    "0": "NULL",
                                    "1": "NULL",
                                    "2": "NULL",
                                    "3": "22",
                                    "4": "1645"
                                },
                                {
                                    "0": "NULL",
                                    "1": "NULL",
                                    "2": "NULL",
                                    "3": "22",
                                    "4": "2500"
                                },
                                {
                                    "0": "NULL",
                                    "1": "NULL",
                                    "2": "NULL",
                                    "3": "22",
                                    "4": "2691"
                                },
                                {
                                    "0": "NULL",
                                    "1": "NULL",
                                    "2": "NULL",
                                    "3": "22",
                                    "4": "4995"
                                },
                                {
                                    "0": "NULL",
                                    "1": "NULL",
                                    "2": "NULL",
                                    "3": "23",
                                    "4": "273"
                                },
                                {
                                    "0": "NULL",
                                    "1": "NULL",
                                    "2": "NULL",
                                    "3": "23",
                                    "4": "459"
                                },
                                {
                                    "0": "NULL",
                                    "1": "NULL",
                                    "2": "NULL",
                                    "3": "23",
                                    "4": "791"
                                },
                                {
                                    "0": "NULL",
                                    "1": "NULL",
                                    "2": "NULL",
                                    "3": "23",
                                    "4": "886"
                                },
                                {
                                    "0": "NULL",
                                    "1": "NULL",
                                    "2": "NULL",
                                    "3": "23",
                                    "4": "925"
                                },
                                {
                                    "0": "NULL",
                                    "1": "NULL",
                                    "2": "NULL",
                                    "3": "23",
                                    "4": "1198"
                                },
                                {
                                    "0": "NULL",
                                    "1": "NULL",
                                    "2": "NULL",
                                    "3": "23",
                                    "4": "1597"
                                },
                                {
                                    "0": "NULL",
                                    "1": "NULL",
                                    "2": "NULL",
                                    "3": "23",
                                    "4": "1688"
                                },
                                {
                                    "0": "NULL",
                                    "1": "NULL",
                                    "2": "NULL",
                                    "3": "23",
                                    "4": "2251"
                                },
                                {
                                    "0": "NULL",
                                    "1": "NULL",
                                    "2": "NULL",
                                    "3": "23",
                                    "4": "2350"
                                },
                                {
                                    "0": "NULL",
                                    "1": "NULL",
                                    "2": "NULL",
                                    "3": "23",
                                    "4": "2613"
                                },
                                {
                                    "0": "NULL",
                                    "1": "NULL",
                                    "2": "NULL",
                                    "3": "23",
                                    "4": "3312"
                                },
                                {
                                    "0": "NULL",
                                    "1": "NULL",
                                    "2": "NULL",
                                    "3": "23",
                                    "4": "3343"
                                },
                                {
                                    "0": "NULL",
                                    "1": "NULL",
                                    "2": "NULL",
                                    "3": "24",
                                    "4": "61"
                                },
                                {
                                    "0": "NULL",
                                    "1": "NULL",
                                    "2": "NULL",
                                    "3": "24",
                                    "4": "143"
                                },
                                {
                                    "0": "NULL",
                                    "1": "NULL",
                                    "2": "NULL",
                                    "3": "24",
                                    "4": "421"
                                },
                                {
                                    "0": "NULL",
                                    "1": "NULL",
                                    "2": "NULL",
                                    "3": "24",
                                    "4": "467"
                                },
                                {
                                    "0": "NULL",
                                    "1": "NULL",
                                    "2": "NULL",
                                    "3": "24",
                                    "4": "974"
                                },
                                {
                                    "0": "NULL",
                                    "1": "NULL",
                                    "2": "NULL",
                                    "3": "26",
                                    "4": "508"
                                },
                                {
                                    "0": "NULL",
                                    "1": "NULL",
                                    "2": "NULL",
                                    "3": "26",
                                    "4": "1796"
                                },
                                {
                                    "0": "NULL",
                                    "1": "NULL",
                                    "2": "NULL",
                                    "3": "26",
                                    "4": "2257"
                                },
                                {
                                    "0": "NULL",
                                    "1": "NULL",
                                    "2": "NULL",
                                    "3": "26",
                                    "4": "2314"
                                },
                                {
                                    "0": "NULL",
                                    "1": "NULL",
                                    "2": "NULL",
                                    "3": "26",
                                    "4": "2357"
                                },
                                {
                                    "0": "NULL",
                                    "1": "NULL",
                                    "2": "NULL",
                                    "3": "26",
                                    "4": "2738"
                                },
                                {
                                    "0": "NULL",
                                    "1": "NULL",
                                    "2": "NULL",
                                    "3": "26",
                                    "4": "2810"
                                },
                                {
                                    "0": "NULL",
                                    "1": "NULL",
                                    "2": "NULL",
                                    "3": "26",
                                    "4": "3207"
                                },
                                {
                                    "0": "The Thorn Birds",
                                    "1": "4.22",
                                    "2": "201",
                                    "3": "26",
                                    "4": "3412"
                                },
                                {
                                    "0": "The Complete Sherlock Holmes, Vol 2",
                                    "1": "4.46",
                                    "2": "117",
                                    "3": "26",
                                    "4": "3586"
                                },
                                {
                                    "0": "The Dark Tower (The Dark Tower, #7)",
                                    "1": "4.27",
                                    "2": "105",
                                    "3": "26",
                                    "4": "5091"
                                },
                                {
                                    "0": "NULL",
                                    "1": "NULL",
                                    "2": "NULL",
                                    "3": "26",
                                    "4": "5550"
                                },
                                {
                                    "0": "NULL",
                                    "1": "NULL",
                                    "2": "NULL",
                                    "3": "26",
                                    "4": "6877"
                                },
                                {
                                    "0": "NULL",
                                    "1": "NULL",
                                    "2": "NULL",
                                    "3": "26",
                                    "4": "7970"
                                },
                                {
                                    "0": "NULL",
                                    "1": "NULL",
                                    "2": "NULL",
                                    "3": "28",
                                    "4": "265"
                                },
                                {
                                    "0": "NULL",
                                    "1": "NULL",
                                    "2": "NULL",
                                    "3": "28",
                                    "4": "587"
                                },
                                {
                                    "0": "NULL",
                                    "1": "NULL",
                                    "2": "NULL",
                                    "3": "28",
                                    "4": "3543"
                                },
                                {
                                    "0": "NULL",
                                    "1": "NULL",
                                    "2": "NULL",
                                    "3": "28",
                                    "4": "5215"
                                },
                                {
                                    "0": "NULL",
                                    "1": "NULL",
                                    "2": "NULL",
                                    "3": "28",
                                    "4": "7496"
                                },
                                {
                                    "0": "NULL",
                                    "1": "NULL",
                                    "2": "NULL",
                                    "3": "28",
                                    "4": "8654"
                                },
                                {
                                    "0": "NULL",
                                    "1": "NULL",
                                    "2": "NULL",
                                    "3": "29",
                                    "4": "31"
                                },
                                {
                                    "0": "NULL",
                                    "1": "NULL",
                                    "2": "NULL",
                                    "3": "29",
                                    "4": "32"
                                },
                                {
                                    "0": "The Lord of the Rings: Weapons and Warfare",
                                    "1": "4.53",
                                    "2": "12",
                                    "3": "29",
                                    "4": "36"
                                },
                                {
                                    "0": "NULL",
                                    "1": "NULL",
                                    "2": "NULL",
                                    "3": "29",
                                    "4": "45"
                                },
                                {
                                    "0": "NULL",
                                    "1": "NULL",
                                    "2": "NULL",
                                    "3": "29",
                                    "4": "65"
                                },
                                {
                                    "0": "NULL",
                                    "1": "NULL",
                                    "2": "NULL",
                                    "3": "29",
                                    "4": "87"
                                },
                                {
                                    "0": "NULL",
                                    "1": "NULL",
                                    "2": "NULL",
                                    "3": "29",
                                    "4": "115"
                                },
                                {
                                    "0": "NULL",
                                    "1": "NULL",
                                    "2": "NULL",
                                    "3": "29",
                                    "4": "121"
                                },
                                {
                                    "0": "NULL",
                                    "1": "NULL",
                                    "2": "NULL",
                                    "3": "29",
                                    "4": "131"
                                },
                                {
                                    "0": "NULL",
                                    "1": "NULL",
                                    "2": "NULL",
                                    "3": "29",
                                    "4": "178"
                                },
                                {
                                    "0": "NULL",
                                    "1": "NULL",
                                    "2": "NULL",
                                    "3": "29",
                                    "4": "256"
                                },
                                {
                                    "0": "NULL",
                                    "1": "NULL",
                                    "2": "NULL",
                                    "3": "29",
                                    "4": "323"
                                },
                                {
                                    "0": "Slouching Towards Bethlehem",
                                    "1": "4.24",
                                    "2": "34",
                                    "3": "29",
                                    "4": "424"
                                },
                                {
                                    "0": "NULL",
                                    "1": "NULL",
                                    "2": "NULL",
                                    "3": "29",
                                    "4": "467"
                                },
                                {
                                    "0": "NULL",
                                    "1": "NULL",
                                    "2": "NULL",
                                    "3": "29",
                                    "4": "550"
                                },
                                {
                                    "0": "NULL",
                                    "1": "NULL",
                                    "2": "NULL",
                                    "3": "29",
                                    "4": "618"
                                },
                                {
                                    "0": "Atlas Shrugged",
                                    "1": "3.68",
                                    "2": "147",
                                    "3": "29",
                                    "4": "662"
                                },
                                {
                                    "0": "NULL",
                                    "1": "NULL",
                                    "2": "NULL",
                                    "3": "29",
                                    "4": "709"
                                },
                                {
                                    "0": "NULL",
                                    "1": "NULL",
                                    "2": "NULL",
                                    "3": "29",
                                    "4": "730"
                                },
                                {
                                    "0": "NULL",
                                    "1": "NULL",
                                    "2": "NULL",
                                    "3": "29",
                                    "4": "771"
                                },
                                {
                                    "0": "NULL",
                                    "1": "NULL",
                                    "2": "NULL",
                                    "3": "29",
                                    "4": "809"
                                },
                                {
                                    "0": "NULL",
                                    "1": "NULL",
                                    "2": "NULL",
                                    "3": "29",
                                    "4": "934"
                                },
                                {
                                    "0": "NULL",
                                    "1": "NULL",
                                    "2": "NULL",
                                    "3": "29",
                                    "4": "1084"
                                },
                                {
                                    "0": "NULL",
                                    "1": "NULL",
                                    "2": "NULL",
                                    "3": "29",
                                    "4": "1364"
                                },
                                {
                                    "0": "NULL",
                                    "1": "NULL",
                                    "2": "NULL",
                                    "3": "29",
                                    "4": "1642"
                                },
                                {
                                    "0": "NULL",
                                    "1": "NULL",
                                    "2": "NULL",
                                    "3": "29",
                                    "4": "1695"
                                },
                                {
                                    "0": "NULL",
                                    "1": "NULL",
                                    "2": "NULL",
                                    "3": "29",
                                    "4": "2259"
                                },
                                {
                                    "0": "NULL",
                                    "1": "NULL",
                                    "2": "NULL",
                                    "3": "29",
                                    "4": "2284"
                                },
                                {
                                    "0": "NULL",
                                    "1": "NULL",
                                    "2": "NULL",
                                    "3": "29",
                                    "4": "2304"
                                },
                                {
                                    "0": "NULL",
                                    "1": "NULL",
                                    "2": "NULL",
                                    "3": "29",
                                    "4": "2967"
                                },
                                {
                                    "0": "NULL",
                                    "1": "NULL",
                                    "2": "NULL",
                                    "3": "29",
                                    "4": "3508"
                                },
                                {
                                    "0": "NULL",
                                    "1": "NULL",
                                    "2": "NULL",
                                    "3": "29",
                                    "4": "4359"
                                },
                                {
                                    "0": "NULL",
                                    "1": "NULL",
                                    "2": "NULL",
                                    "3": "29",
                                    "4": "4394"
                                },
                                {
                                    "0": "NULL",
                                    "1": "NULL",
                                    "2": "NULL",
                                    "3": "29",
                                    "4": "4475"
                                },
                                {
                                    "0": "NULL",
                                    "1": "NULL",
                                    "2": "NULL",
                                    "3": "29",
                                    "4": "4629"
                                },
                                {
                                    "0": "NULL",
                                    "1": "NULL",
                                    "2": "NULL",
                                    "3": "29",
                                    "4": "5090"
                                },
                                {
                                    "0": "NULL",
                                    "1": "NULL",
                                    "2": "NULL",
                                    "3": "29",
                                    "4": "5596"
                                },
                                {
                                    "0": "NULL",
                                    "1": "NULL",
                                    "2": "NULL",
                                    "3": "29",
                                    "4": "5851"
                                },
                                {
                                    "0": "NULL",
                                    "1": "NULL",
                                    "2": "NULL",
                                    "3": "29",
                                    "4": "6104"
                                },
                                {
                                    "0": "NULL",
                                    "1": "NULL",
                                    "2": "NULL",
                                    "3": "30",
                                    "4": "47"
                                },
                                {
                                    "0": "The Known World",
                                    "1": "3.82",
                                    "2": "42",
                                    "3": "30",
                                    "4": "67"
                                },
                                {
                                    "0": "NULL",
                                    "1": "NULL",
                                    "2": "NULL",
                                    "3": "30",
                                    "4": "82"
                                },
                                {
                                    "0": "NULL",
                                    "1": "NULL",
                                    "2": "NULL",
                                    "3": "30",
                                    "4": "121"
                                },
                                {
                                    "0": "NULL",
                                    "1": "NULL",
                                    "2": "NULL",
                                    "3": "30",
                                    "4": "177"
                                },
                                {
                                    "0": "Tropic of Cancer",
                                    "1": "3.71",
                                    "2": "205",
                                    "3": "30",
                                    "4": "249"
                                },
                                {
                                    "0": "NULL",
                                    "1": "NULL",
                                    "2": "NULL",
                                    "3": "30",
                                    "4": "297"
                                },
                                {
                                    "0": "NULL",
                                    "1": "NULL",
                                    "2": "NULL",
                                    "3": "30",
                                    "4": "407"
                                },
                                {
                                    "0": "NULL",
                                    "1": "NULL",
                                    "2": "NULL",
                                    "3": "30",
                                    "4": "426"
                                },
                                {
                                    "0": "NULL",
                                    "1": "NULL",
                                    "2": "NULL",
                                    "3": "30",
                                    "4": "430"
                                },
                                {
                                    "0": "NULL",
                                    "1": "NULL",
                                    "2": "NULL",
                                    "3": "30",
                                    "4": "442"
                                },
                                {
                                    "0": "NULL",
                                    "1": "NULL",
                                    "2": "NULL",
                                    "3": "30",
                                    "4": "516"
                                },
                                {
                                    "0": "NULL",
                                    "1": "NULL",
                                    "2": "NULL",
                                    "3": "30",
                                    "4": "658"
                                },
                                {
                                    "0": "NULL",
                                    "1": "NULL",
                                    "2": "NULL",
                                    "3": "30",
                                    "4": "895"
                                },
                                {
                                    "0": "NULL",
                                    "1": "NULL",
                                    "2": "NULL",
                                    "3": "30",
                                    "4": "1039"
                                },
                                {
                                    "0": "NULL",
                                    "1": "NULL",
                                    "2": "NULL",
                                    "3": "30",
                                    "4": "1094"
                                },
                                {
                                    "0": "The Odyssey",
                                    "1": "3.73",
                                    "2": "1703",
                                    "3": "30",
                                    "4": "1381"
                                },
                                {
                                    "0": "NULL",
                                    "1": "NULL",
                                    "2": "NULL",
                                    "3": "30",
                                    "4": "2117"
                                },
                                {
                                    "0": "NULL",
                                    "1": "NULL",
                                    "2": "NULL",
                                    "3": "30",
                                    "4": "2426"
                                },
                                {
                                    "0": "NULL",
                                    "1": "NULL",
                                    "2": "NULL",
                                    "3": "30",
                                    "4": "3444"
                                },
                                {
                                    "0": "The Pilgrimage",
                                    "1": "3.64",
                                    "2": "171",
                                    "3": "30",
                                    "4": "4004"
                                },
                                {
                                    "0": "NULL",
                                    "1": "NULL",
                                    "2": "NULL",
                                    "3": "30",
                                    "4": "4202"
                                },
                                {
                                    "0": "NULL",
                                    "1": "NULL",
                                    "2": "NULL",
                                    "3": "30",
                                    "4": "4509"
                                },
                                {
                                    "0": "NULL",
                                    "1": "NULL",
                                    "2": "NULL",
                                    "3": "30",
                                    "4": "5880"
                                },
                                {
                                    "0": "The Hobbit",
                                    "1": "4.25",
                                    "2": "969",
                                    "3": "30",
                                    "4": "5907"
                                },
                                {
                                    "0": "NULL",
                                    "1": "NULL",
                                    "2": "NULL",
                                    "3": "30",
                                    "4": "6828"
                                },
                                {
                                    "0": "NULL",
                                    "1": "NULL",
                                    "2": "NULL",
                                    "3": "30",
                                    "4": "7563"
                                },
                                {
                                    "0": "NULL",
                                    "1": "NULL",
                                    "2": "NULL",
                                    "3": "30",
                                    "4": "8737"
                                },
                                {
                                    "0": "NULL",
                                    "1": "NULL",
                                    "2": "NULL",
                                    "3": "31",
                                    "4": "94"
                                },
                                {
                                    "0": "NULL",
                                    "1": "NULL",
                                    "2": "NULL",
                                    "3": "31",
                                    "4": "584"
                                }
                            ]
                        },
                        "text/html": [
                            "<table>",
                            "<tr><th>title</th><th>average_rating</th><th>books_count</th><th>user_id</th><th>book_id</th></tr>",
                            "<tr><td>Children of Dune (Dune Chronicles #3)</td><td>3.9</td><td>116</td><td>1</td><td>112</td></tr>",
                            "<tr><td>NULL</td><td>NULL</td><td>NULL</td><td>1</td><td>235</td></tr>",
                            "<tr><td>NULL</td><td>NULL</td><td>NULL</td><td>1</td><td>533</td></tr>",
                            "<tr><td>NULL</td><td>NULL</td><td>NULL</td><td>1</td><td>1198</td></tr>",
                            "<tr><td>NULL</td><td>NULL</td><td>NULL</td><td>1</td><td>1874</td></tr>",
                            "<tr><td>NULL</td><td>NULL</td><td>NULL</td><td>1</td><td>2058</td></tr>",
                            "<tr><td>NULL</td><td>NULL</td><td>NULL</td><td>1</td><td>3334</td></tr>",
                            "<tr><td>NULL</td><td>NULL</td><td>NULL</td><td>2</td><td>4</td></tr>",
                            "<tr><td>NULL</td><td>NULL</td><td>NULL</td><td>2</td><td>11</td></tr>",
                            "<tr><td>The Ultimate Hitchhiker's Guide to the Galaxy</td><td>4.37</td><td>32</td><td>2</td><td>13</td></tr>",
                            "<tr><td>NULL</td><td>NULL</td><td>NULL</td><td>2</td><td>16</td></tr>",
                            "<tr><td>NULL</td><td>NULL</td><td>NULL</td><td>2</td><td>92</td></tr>",
                            "<tr><td>Dune Messiah (Dune Chronicles #2)</td><td>3.86</td><td>140</td><td>2</td><td>106</td></tr>",
                            "<tr><td>NULL</td><td>NULL</td><td>NULL</td><td>2</td><td>113</td></tr>",
                            "<tr><td>NULL</td><td>NULL</td><td>NULL</td><td>2</td><td>233</td></tr>",
                            "<tr><td>NULL</td><td>NULL</td><td>NULL</td><td>2</td><td>247</td></tr>",
                            "<tr><td>NULL</td><td>NULL</td><td>NULL</td><td>2</td><td>380</td></tr>",
                            "<tr><td>NULL</td><td>NULL</td><td>NULL</td><td>2</td><td>408</td></tr>",
                            "<tr><td>NULL</td><td>NULL</td><td>NULL</td><td>2</td><td>439</td></tr>",
                            "<tr><td>NULL</td><td>NULL</td><td>NULL</td><td>2</td><td>479</td></tr>",
                            "<tr><td>NULL</td><td>NULL</td><td>NULL</td><td>2</td><td>516</td></tr>",
                            "<tr><td>NULL</td><td>NULL</td><td>NULL</td><td>2</td><td>619</td></tr>",
                            "<tr><td>NULL</td><td>NULL</td><td>NULL</td><td>2</td><td>1069</td></tr>",
                            "<tr><td>The Iliad</td><td>3.83</td><td>1726</td><td>2</td><td>1371</td></tr>",
                            "<tr><td>NULL</td><td>NULL</td><td>NULL</td><td>2</td><td>1384</td></tr>",
                            "<tr><td>NULL</td><td>NULL</td><td>NULL</td><td>2</td><td>1597</td></tr>",
                            "<tr><td>NULL</td><td>NULL</td><td>NULL</td><td>2</td><td>1926</td></tr>",
                            "<tr><td>NULL</td><td>NULL</td><td>NULL</td><td>2</td><td>1967</td></tr>",
                            "<tr><td>NULL</td><td>NULL</td><td>NULL</td><td>2</td><td>1969</td></tr>",
                            "<tr><td>NULL</td><td>NULL</td><td>NULL</td><td>2</td><td>2220</td></tr>",
                            "<tr><td>NULL</td><td>NULL</td><td>NULL</td><td>2</td><td>2388</td></tr>",
                            "<tr><td>NULL</td><td>NULL</td><td>NULL</td><td>2</td><td>3222</td></tr>",
                            "<tr><td>NULL</td><td>NULL</td><td>NULL</td><td>2</td><td>3227</td></tr>",
                            "<tr><td>NULL</td><td>NULL</td><td>NULL</td><td>2</td><td>3733</td></tr>",
                            "<tr><td>NULL</td><td>NULL</td><td>NULL</td><td>2</td><td>5418</td></tr>",
                            "<tr><td>NULL</td><td>NULL</td><td>NULL</td><td>2</td><td>6937</td></tr>",
                            "<tr><td>NULL</td><td>NULL</td><td>NULL</td><td>2</td><td>7146</td></tr>",
                            "<tr><td>NULL</td><td>NULL</td><td>NULL</td><td>2</td><td>7873</td></tr>",
                            "<tr><td>NULL</td><td>NULL</td><td>NULL</td><td>2</td><td>8417</td></tr>",
                            "<tr><td>Harry Potter Collection (Harry Potter, #1-6)</td><td>4.73</td><td>6</td><td>3</td><td>10</td></tr>",
                            "<tr><td>NULL</td><td>NULL</td><td>NULL</td><td>3</td><td>66</td></tr>",
                            "<tr><td>NULL</td><td>NULL</td><td>NULL</td><td>3</td><td>233</td></tr>",
                            "<tr><td>NULL</td><td>NULL</td><td>NULL</td><td>3</td><td>726</td></tr>",
                            "<tr><td>NULL</td><td>NULL</td><td>NULL</td><td>3</td><td>932</td></tr>",
                            "<tr><td>NULL</td><td>NULL</td><td>NULL</td><td>3</td><td>1146</td></tr>",
                            "<tr><td>NULL</td><td>NULL</td><td>NULL</td><td>3</td><td>2439</td></tr>",
                            "<tr><td>NULL</td><td>NULL</td><td>NULL</td><td>3</td><td>3566</td></tr>",
                            "<tr><td>NULL</td><td>NULL</td><td>NULL</td><td>3</td><td>4582</td></tr>",
                            "<tr><td>NULL</td><td>NULL</td><td>NULL</td><td>3</td><td>5448</td></tr>",
                            "<tr><td>NULL</td><td>NULL</td><td>NULL</td><td>3</td><td>5765</td></tr>",
                            "<tr><td>NULL</td><td>NULL</td><td>NULL</td><td>3</td><td>6274</td></tr>",
                            "<tr><td>NULL</td><td>NULL</td><td>NULL</td><td>3</td><td>8403</td></tr>",
                            "<tr><td>NULL</td><td>NULL</td><td>NULL</td><td>5</td><td>31</td></tr>",
                            "<tr><td>The Virtue of Selfishness: A New Concept of Egoism</td><td>3.47</td><td>53</td><td>5</td><td>665</td></tr>",
                            "<tr><td>NULL</td><td>NULL</td><td>NULL</td><td>5</td><td>3074</td></tr>",
                            "<tr><td>Sherlock Holmes: The Complete Novels and Stories, Volume I</td><td>4.45</td><td>13</td><td>5</td><td>3581</td></tr>",
                            "<tr><td>NULL</td><td>NULL</td><td>NULL</td><td>6</td><td>64</td></tr>",
                            "<tr><td>NULL</td><td>NULL</td><td>NULL</td><td>6</td><td>459</td></tr>",
                            "<tr><td>NULL</td><td>NULL</td><td>NULL</td><td>6</td><td>619</td></tr>",
                            "<tr><td>NULL</td><td>NULL</td><td>NULL</td><td>6</td><td>649</td></tr>",
                            "<tr><td>NULL</td><td>NULL</td><td>NULL</td><td>6</td><td>687</td></tr>",
                            "<tr><td>NULL</td><td>NULL</td><td>NULL</td><td>6</td><td>874</td></tr>",
                            "<tr><td>The War of Art: Break Through the Blocks &amp; Win Your Inner Creative Battles</td><td>4.07</td><td>29</td><td>6</td><td>1319</td></tr>",
                            "<tr><td>NULL</td><td>NULL</td><td>NULL</td><td>6</td><td>1912</td></tr>",
                            "<tr><td>NULL</td><td>NULL</td><td>NULL</td><td>6</td><td>5269</td></tr>",
                            "<tr><td>NULL</td><td>NULL</td><td>NULL</td><td>6</td><td>5537</td></tr>",
                            "<tr><td>NULL</td><td>NULL</td><td>NULL</td><td>6</td><td>5820</td></tr>",
                            "<tr><td>NULL</td><td>NULL</td><td>NULL</td><td>6</td><td>6220</td></tr>",
                            "<tr><td>NULL</td><td>NULL</td><td>NULL</td><td>6</td><td>7480</td></tr>",
                            "<tr><td>Harry Potter Collection (Harry Potter, #1-6)</td><td>4.73</td><td>6</td><td>7</td><td>10</td></tr>",
                            "<tr><td>NULL</td><td>NULL</td><td>NULL</td><td>7</td><td>215</td></tr>",
                            "<tr><td>NULL</td><td>NULL</td><td>NULL</td><td>7</td><td>225</td></tr>",
                            "<tr><td>NULL</td><td>NULL</td><td>NULL</td><td>7</td><td>233</td></tr>",
                            "<tr><td>NULL</td><td>NULL</td><td>NULL</td><td>7</td><td>1322</td></tr>",
                            "<tr><td>NULL</td><td>NULL</td><td>NULL</td><td>7</td><td>3552</td></tr>",
                            "<tr><td>NULL</td><td>NULL</td><td>NULL</td><td>7</td><td>3720</td></tr>",
                            "<tr><td>NULL</td><td>NULL</td><td>NULL</td><td>7</td><td>4468</td></tr>",
                            "<tr><td>NULL</td><td>NULL</td><td>NULL</td><td>8</td><td>19</td></tr>",
                            "<tr><td>NULL</td><td>NULL</td><td>NULL</td><td>8</td><td>498</td></tr>",
                            "<tr><td>NULL</td><td>NULL</td><td>NULL</td><td>8</td><td>1357</td></tr>",
                            "<tr><td>NULL</td><td>NULL</td><td>NULL</td><td>8</td><td>2177</td></tr>",
                            "<tr><td>NULL</td><td>NULL</td><td>NULL</td><td>8</td><td>3930</td></tr>",
                            "<tr><td>The Pilgrimage</td><td>3.64</td><td>171</td><td>8</td><td>4004</td></tr>",
                            "<tr><td>NULL</td><td>NULL</td><td>NULL</td><td>8</td><td>8792</td></tr>",
                            "<tr><td>NULL</td><td>NULL</td><td>NULL</td><td>8</td><td>9304</td></tr>",
                            "<tr><td>Harry Potter Boxed Set, Books 1-5 (Harry Potter, #1-5)</td><td>4.77</td><td>11</td><td>9</td><td>8</td></tr>",
                            "<tr><td>Children of Dune (Dune Chronicles #3)</td><td>3.9</td><td>116</td><td>9</td><td>112</td></tr>",
                            "<tr><td>NULL</td><td>NULL</td><td>NULL</td><td>9</td><td>139</td></tr>",
                            "<tr><td>NULL</td><td>NULL</td><td>NULL</td><td>9</td><td>230</td></tr>",
                            "<tr><td>NULL</td><td>NULL</td><td>NULL</td><td>9</td><td>233</td></tr>",
                            "<tr><td>NULL</td><td>NULL</td><td>NULL</td><td>9</td><td>473</td></tr>",
                            "<tr><td>NULL</td><td>NULL</td><td>NULL</td><td>9</td><td>638</td></tr>",
                            "<tr><td>NULL</td><td>NULL</td><td>NULL</td><td>9</td><td>653</td></tr>",
                            "<tr><td>NULL</td><td>NULL</td><td>NULL</td><td>9</td><td>672</td></tr>",
                            "<tr><td>NULL</td><td>NULL</td><td>NULL</td><td>9</td><td>701</td></tr>",
                            "<tr><td>NULL</td><td>NULL</td><td>NULL</td><td>9</td><td>736</td></tr>",
                            "<tr><td>NULL</td><td>NULL</td><td>NULL</td><td>9</td><td>883</td></tr>",
                            "<tr><td>NULL</td><td>NULL</td><td>NULL</td><td>9</td><td>895</td></tr>",
                            "<tr><td>NULL</td><td>NULL</td><td>NULL</td><td>9</td><td>1467</td></tr>",
                            "<tr><td>NULL</td><td>NULL</td><td>NULL</td><td>9</td><td>1582</td></tr>",
                            "<tr><td>NULL</td><td>NULL</td><td>NULL</td><td>9</td><td>1873</td></tr>",
                            "<tr><td>NULL</td><td>NULL</td><td>NULL</td><td>9</td><td>2516</td></tr>",
                            "<tr><td>NULL</td><td>NULL</td><td>NULL</td><td>9</td><td>2630</td></tr>",
                            "<tr><td>NULL</td><td>NULL</td><td>NULL</td><td>9</td><td>3210</td></tr>",
                            "<tr><td>Icy Sparks</td><td>3.68</td><td>27</td><td>9</td><td>3476</td></tr>",
                            "<tr><td>NULL</td><td>NULL</td><td>NULL</td><td>9</td><td>3560</td></tr>",
                            "<tr><td>NULL</td><td>NULL</td><td>NULL</td><td>9</td><td>3650</td></tr>",
                            "<tr><td>NULL</td><td>NULL</td><td>NULL</td><td>9</td><td>5286</td></tr>",
                            "<tr><td>NULL</td><td>NULL</td><td>NULL</td><td>9</td><td>6636</td></tr>",
                            "<tr><td>Harry Potter and the Goblet of Fire (Harry Potter, #4)</td><td>4.53</td><td>332</td><td>10</td><td>6</td></tr>",
                            "<tr><td>NULL</td><td>NULL</td><td>NULL</td><td>10</td><td>385</td></tr>",
                            "<tr><td>Atlas Shrugged</td><td>3.68</td><td>147</td><td>10</td><td>662</td></tr>",
                            "<tr><td>NULL</td><td>NULL</td><td>NULL</td><td>10</td><td>896</td></tr>",
                            "<tr><td>NULL</td><td>NULL</td><td>NULL</td><td>10</td><td>1076</td></tr>",
                            "<tr><td>NULL</td><td>NULL</td><td>NULL</td><td>10</td><td>1082</td></tr>",
                            "<tr><td>NULL</td><td>NULL</td><td>NULL</td><td>10</td><td>1220</td></tr>",
                            "<tr><td>NULL</td><td>NULL</td><td>NULL</td><td>10</td><td>1281</td></tr>",
                            "<tr><td>NULL</td><td>NULL</td><td>NULL</td><td>10</td><td>1439</td></tr>",
                            "<tr><td>NULL</td><td>NULL</td><td>NULL</td><td>10</td><td>1851</td></tr>",
                            "<tr><td>NULL</td><td>NULL</td><td>NULL</td><td>10</td><td>1920</td></tr>",
                            "<tr><td>NULL</td><td>NULL</td><td>NULL</td><td>10</td><td>2441</td></tr>",
                            "<tr><td>NULL</td><td>NULL</td><td>NULL</td><td>10</td><td>2570</td></tr>",
                            "<tr><td>NULL</td><td>NULL</td><td>NULL</td><td>10</td><td>2616</td></tr>",
                            "<tr><td>NULL</td><td>NULL</td><td>NULL</td><td>10</td><td>3059</td></tr>",
                            "<tr><td>NULL</td><td>NULL</td><td>NULL</td><td>10</td><td>3545</td></tr>",
                            "<tr><td>NULL</td><td>NULL</td><td>NULL</td><td>10</td><td>3961</td></tr>",
                            "<tr><td>NULL</td><td>NULL</td><td>NULL</td><td>10</td><td>4369</td></tr>",
                            "<tr><td>NULL</td><td>NULL</td><td>NULL</td><td>10</td><td>4510</td></tr>",
                            "<tr><td>NULL</td><td>NULL</td><td>NULL</td><td>10</td><td>5104</td></tr>",
                            "<tr><td>NULL</td><td>NULL</td><td>NULL</td><td>10</td><td>5254</td></tr>",
                            "<tr><td>NULL</td><td>NULL</td><td>NULL</td><td>10</td><td>5556</td></tr>",
                            "<tr><td>NULL</td><td>NULL</td><td>NULL</td><td>10</td><td>6114</td></tr>",
                            "<tr><td>NULL</td><td>NULL</td><td>NULL</td><td>10</td><td>6917</td></tr>",
                            "<tr><td>NULL</td><td>NULL</td><td>NULL</td><td>10</td><td>7545</td></tr>",
                            "<tr><td>NULL</td><td>NULL</td><td>NULL</td><td>10</td><td>7842</td></tr>",
                            "<tr><td>NULL</td><td>NULL</td><td>NULL</td><td>11</td><td>3643</td></tr>",
                            "<tr><td>Harry Potter and the Half-Blood Prince (Harry Potter, #6)</td><td>4.54</td><td>275</td><td>12</td><td>1</td></tr>",
                            "<tr><td>NULL</td><td>NULL</td><td>NULL</td><td>12</td><td>124</td></tr>",
                            "<tr><td>NULL</td><td>NULL</td><td>NULL</td><td>12</td><td>1471</td></tr>",
                            "<tr><td>NULL</td><td>NULL</td><td>NULL</td><td>12</td><td>2893</td></tr>",
                            "<tr><td>NULL</td><td>NULL</td><td>NULL</td><td>13</td><td>81</td></tr>",
                            "<tr><td>NULL</td><td>NULL</td><td>NULL</td><td>13</td><td>277</td></tr>",
                            "<tr><td>NULL</td><td>NULL</td><td>NULL</td><td>13</td><td>318</td></tr>",
                            "<tr><td>NULL</td><td>NULL</td><td>NULL</td><td>13</td><td>430</td></tr>",
                            "<tr><td>NULL</td><td>NULL</td><td>NULL</td><td>13</td><td>437</td></tr>",
                            "<tr><td>NULL</td><td>NULL</td><td>NULL</td><td>13</td><td>551</td></tr>",
                            "<tr><td>NULL</td><td>NULL</td><td>NULL</td><td>13</td><td>560</td></tr>",
                            "<tr><td>NULL</td><td>NULL</td><td>NULL</td><td>13</td><td>610</td></tr>",
                            "<tr><td>NULL</td><td>NULL</td><td>NULL</td><td>13</td><td>678</td></tr>",
                            "<tr><td>NULL</td><td>NULL</td><td>NULL</td><td>13</td><td>979</td></tr>",
                            "<tr><td>NULL</td><td>NULL</td><td>NULL</td><td>13</td><td>1082</td></tr>",
                            "<tr><td>NULL</td><td>NULL</td><td>NULL</td><td>13</td><td>1464</td></tr>",
                            "<tr><td>NULL</td><td>NULL</td><td>NULL</td><td>13</td><td>1577</td></tr>",
                            "<tr><td>NULL</td><td>NULL</td><td>NULL</td><td>13</td><td>2018</td></tr>",
                            "<tr><td>NULL</td><td>NULL</td><td>NULL</td><td>13</td><td>2418</td></tr>",
                            "<tr><td>NULL</td><td>NULL</td><td>NULL</td><td>13</td><td>3257</td></tr>",
                            "<tr><td>NULL</td><td>NULL</td><td>NULL</td><td>13</td><td>4212</td></tr>",
                            "<tr><td>NULL</td><td>NULL</td><td>NULL</td><td>13</td><td>4635</td></tr>",
                            "<tr><td>NULL</td><td>NULL</td><td>NULL</td><td>13</td><td>4704</td></tr>",
                            "<tr><td>NULL</td><td>NULL</td><td>NULL</td><td>13</td><td>4734</td></tr>",
                            "<tr><td>NULL</td><td>NULL</td><td>NULL</td><td>13</td><td>4841</td></tr>",
                            "<tr><td>NULL</td><td>NULL</td><td>NULL</td><td>13</td><td>4848</td></tr>",
                            "<tr><td>NULL</td><td>NULL</td><td>NULL</td><td>13</td><td>4856</td></tr>",
                            "<tr><td>NULL</td><td>NULL</td><td>NULL</td><td>13</td><td>4928</td></tr>",
                            "<tr><td>NULL</td><td>NULL</td><td>NULL</td><td>13</td><td>6114</td></tr>",
                            "<tr><td>NULL</td><td>NULL</td><td>NULL</td><td>13</td><td>6793</td></tr>",
                            "<tr><td>NULL</td><td>NULL</td><td>NULL</td><td>13</td><td>6962</td></tr>",
                            "<tr><td>NULL</td><td>NULL</td><td>NULL</td><td>13</td><td>8717</td></tr>",
                            "<tr><td>NULL</td><td>NULL</td><td>NULL</td><td>14</td><td>493</td></tr>",
                            "<tr><td>NULL</td><td>NULL</td><td>NULL</td><td>14</td><td>1179</td></tr>",
                            "<tr><td>NULL</td><td>NULL</td><td>NULL</td><td>14</td><td>2693</td></tr>",
                            "<tr><td>Sherlock Holmes: The Complete Novels and Stories, Volume I</td><td>4.45</td><td>13</td><td>14</td><td>3581</td></tr>",
                            "<tr><td>NULL</td><td>NULL</td><td>NULL</td><td>14</td><td>3683</td></tr>",
                            "<tr><td>NULL</td><td>NULL</td><td>NULL</td><td>14</td><td>3953</td></tr>",
                            "<tr><td>NULL</td><td>NULL</td><td>NULL</td><td>14</td><td>4220</td></tr>",
                            "<tr><td>NULL</td><td>NULL</td><td>NULL</td><td>14</td><td>5076</td></tr>",
                            "<tr><td>NULL</td><td>NULL</td><td>NULL</td><td>14</td><td>5537</td></tr>",
                            "<tr><td>NULL</td><td>NULL</td><td>NULL</td><td>14</td><td>7777</td></tr>",
                            "<tr><td>NULL</td><td>NULL</td><td>NULL</td><td>15</td><td>191</td></tr>",
                            "<tr><td>The Lover</td><td>3.76</td><td>148</td><td>15</td><td>275</td></tr>",
                            "<tr><td>NULL</td><td>NULL</td><td>NULL</td><td>15</td><td>398</td></tr>",
                            "<tr><td>NULL</td><td>NULL</td><td>NULL</td><td>15</td><td>666</td></tr>",
                            "<tr><td>NULL</td><td>NULL</td><td>NULL</td><td>15</td><td>1491</td></tr>",
                            "<tr><td>NULL</td><td>NULL</td><td>NULL</td><td>15</td><td>5210</td></tr>",
                            "<tr><td>NULL</td><td>NULL</td><td>NULL</td><td>17</td><td>1344</td></tr>",
                            "<tr><td>The Good Soldier</td><td>3.72</td><td>362</td><td>20</td><td>7628</td></tr>",
                            "<tr><td>NULL</td><td>NULL</td><td>NULL</td><td>22</td><td>653</td></tr>",
                            "<tr><td>NULL</td><td>NULL</td><td>NULL</td><td>22</td><td>1403</td></tr>",
                            "<tr><td>NULL</td><td>NULL</td><td>NULL</td><td>22</td><td>1405</td></tr>",
                            "<tr><td>NULL</td><td>NULL</td><td>NULL</td><td>22</td><td>1645</td></tr>",
                            "<tr><td>NULL</td><td>NULL</td><td>NULL</td><td>22</td><td>2500</td></tr>",
                            "<tr><td>NULL</td><td>NULL</td><td>NULL</td><td>22</td><td>2691</td></tr>",
                            "<tr><td>NULL</td><td>NULL</td><td>NULL</td><td>22</td><td>4995</td></tr>",
                            "<tr><td>NULL</td><td>NULL</td><td>NULL</td><td>23</td><td>273</td></tr>",
                            "<tr><td>NULL</td><td>NULL</td><td>NULL</td><td>23</td><td>459</td></tr>",
                            "<tr><td>NULL</td><td>NULL</td><td>NULL</td><td>23</td><td>791</td></tr>",
                            "<tr><td>NULL</td><td>NULL</td><td>NULL</td><td>23</td><td>886</td></tr>",
                            "<tr><td>NULL</td><td>NULL</td><td>NULL</td><td>23</td><td>925</td></tr>",
                            "<tr><td>NULL</td><td>NULL</td><td>NULL</td><td>23</td><td>1198</td></tr>",
                            "<tr><td>NULL</td><td>NULL</td><td>NULL</td><td>23</td><td>1597</td></tr>",
                            "<tr><td>NULL</td><td>NULL</td><td>NULL</td><td>23</td><td>1688</td></tr>",
                            "<tr><td>NULL</td><td>NULL</td><td>NULL</td><td>23</td><td>2251</td></tr>",
                            "<tr><td>NULL</td><td>NULL</td><td>NULL</td><td>23</td><td>2350</td></tr>",
                            "<tr><td>NULL</td><td>NULL</td><td>NULL</td><td>23</td><td>2613</td></tr>",
                            "<tr><td>NULL</td><td>NULL</td><td>NULL</td><td>23</td><td>3312</td></tr>",
                            "<tr><td>NULL</td><td>NULL</td><td>NULL</td><td>23</td><td>3343</td></tr>",
                            "<tr><td>NULL</td><td>NULL</td><td>NULL</td><td>24</td><td>61</td></tr>",
                            "<tr><td>NULL</td><td>NULL</td><td>NULL</td><td>24</td><td>143</td></tr>",
                            "<tr><td>NULL</td><td>NULL</td><td>NULL</td><td>24</td><td>421</td></tr>",
                            "<tr><td>NULL</td><td>NULL</td><td>NULL</td><td>24</td><td>467</td></tr>",
                            "<tr><td>NULL</td><td>NULL</td><td>NULL</td><td>24</td><td>974</td></tr>",
                            "<tr><td>NULL</td><td>NULL</td><td>NULL</td><td>26</td><td>508</td></tr>",
                            "<tr><td>NULL</td><td>NULL</td><td>NULL</td><td>26</td><td>1796</td></tr>",
                            "<tr><td>NULL</td><td>NULL</td><td>NULL</td><td>26</td><td>2257</td></tr>",
                            "<tr><td>NULL</td><td>NULL</td><td>NULL</td><td>26</td><td>2314</td></tr>",
                            "<tr><td>NULL</td><td>NULL</td><td>NULL</td><td>26</td><td>2357</td></tr>",
                            "<tr><td>NULL</td><td>NULL</td><td>NULL</td><td>26</td><td>2738</td></tr>",
                            "<tr><td>NULL</td><td>NULL</td><td>NULL</td><td>26</td><td>2810</td></tr>",
                            "<tr><td>NULL</td><td>NULL</td><td>NULL</td><td>26</td><td>3207</td></tr>",
                            "<tr><td>The Thorn Birds</td><td>4.22</td><td>201</td><td>26</td><td>3412</td></tr>",
                            "<tr><td>The Complete Sherlock Holmes, Vol 2</td><td>4.46</td><td>117</td><td>26</td><td>3586</td></tr>",
                            "<tr><td>The Dark Tower (The Dark Tower, #7)</td><td>4.27</td><td>105</td><td>26</td><td>5091</td></tr>",
                            "<tr><td>NULL</td><td>NULL</td><td>NULL</td><td>26</td><td>5550</td></tr>",
                            "<tr><td>NULL</td><td>NULL</td><td>NULL</td><td>26</td><td>6877</td></tr>",
                            "<tr><td>NULL</td><td>NULL</td><td>NULL</td><td>26</td><td>7970</td></tr>",
                            "<tr><td>NULL</td><td>NULL</td><td>NULL</td><td>28</td><td>265</td></tr>",
                            "<tr><td>NULL</td><td>NULL</td><td>NULL</td><td>28</td><td>587</td></tr>",
                            "<tr><td>NULL</td><td>NULL</td><td>NULL</td><td>28</td><td>3543</td></tr>",
                            "<tr><td>NULL</td><td>NULL</td><td>NULL</td><td>28</td><td>5215</td></tr>",
                            "<tr><td>NULL</td><td>NULL</td><td>NULL</td><td>28</td><td>7496</td></tr>",
                            "<tr><td>NULL</td><td>NULL</td><td>NULL</td><td>28</td><td>8654</td></tr>",
                            "<tr><td>NULL</td><td>NULL</td><td>NULL</td><td>29</td><td>31</td></tr>",
                            "<tr><td>NULL</td><td>NULL</td><td>NULL</td><td>29</td><td>32</td></tr>",
                            "<tr><td>The Lord of the Rings: Weapons and Warfare</td><td>4.53</td><td>12</td><td>29</td><td>36</td></tr>",
                            "<tr><td>NULL</td><td>NULL</td><td>NULL</td><td>29</td><td>45</td></tr>",
                            "<tr><td>NULL</td><td>NULL</td><td>NULL</td><td>29</td><td>65</td></tr>",
                            "<tr><td>NULL</td><td>NULL</td><td>NULL</td><td>29</td><td>87</td></tr>",
                            "<tr><td>NULL</td><td>NULL</td><td>NULL</td><td>29</td><td>115</td></tr>",
                            "<tr><td>NULL</td><td>NULL</td><td>NULL</td><td>29</td><td>121</td></tr>",
                            "<tr><td>NULL</td><td>NULL</td><td>NULL</td><td>29</td><td>131</td></tr>",
                            "<tr><td>NULL</td><td>NULL</td><td>NULL</td><td>29</td><td>178</td></tr>",
                            "<tr><td>NULL</td><td>NULL</td><td>NULL</td><td>29</td><td>256</td></tr>",
                            "<tr><td>NULL</td><td>NULL</td><td>NULL</td><td>29</td><td>323</td></tr>",
                            "<tr><td>Slouching Towards Bethlehem</td><td>4.24</td><td>34</td><td>29</td><td>424</td></tr>",
                            "<tr><td>NULL</td><td>NULL</td><td>NULL</td><td>29</td><td>467</td></tr>",
                            "<tr><td>NULL</td><td>NULL</td><td>NULL</td><td>29</td><td>550</td></tr>",
                            "<tr><td>NULL</td><td>NULL</td><td>NULL</td><td>29</td><td>618</td></tr>",
                            "<tr><td>Atlas Shrugged</td><td>3.68</td><td>147</td><td>29</td><td>662</td></tr>",
                            "<tr><td>NULL</td><td>NULL</td><td>NULL</td><td>29</td><td>709</td></tr>",
                            "<tr><td>NULL</td><td>NULL</td><td>NULL</td><td>29</td><td>730</td></tr>",
                            "<tr><td>NULL</td><td>NULL</td><td>NULL</td><td>29</td><td>771</td></tr>",
                            "<tr><td>NULL</td><td>NULL</td><td>NULL</td><td>29</td><td>809</td></tr>",
                            "<tr><td>NULL</td><td>NULL</td><td>NULL</td><td>29</td><td>934</td></tr>",
                            "<tr><td>NULL</td><td>NULL</td><td>NULL</td><td>29</td><td>1084</td></tr>",
                            "<tr><td>NULL</td><td>NULL</td><td>NULL</td><td>29</td><td>1364</td></tr>",
                            "<tr><td>NULL</td><td>NULL</td><td>NULL</td><td>29</td><td>1642</td></tr>",
                            "<tr><td>NULL</td><td>NULL</td><td>NULL</td><td>29</td><td>1695</td></tr>",
                            "<tr><td>NULL</td><td>NULL</td><td>NULL</td><td>29</td><td>2259</td></tr>",
                            "<tr><td>NULL</td><td>NULL</td><td>NULL</td><td>29</td><td>2284</td></tr>",
                            "<tr><td>NULL</td><td>NULL</td><td>NULL</td><td>29</td><td>2304</td></tr>",
                            "<tr><td>NULL</td><td>NULL</td><td>NULL</td><td>29</td><td>2967</td></tr>",
                            "<tr><td>NULL</td><td>NULL</td><td>NULL</td><td>29</td><td>3508</td></tr>",
                            "<tr><td>NULL</td><td>NULL</td><td>NULL</td><td>29</td><td>4359</td></tr>",
                            "<tr><td>NULL</td><td>NULL</td><td>NULL</td><td>29</td><td>4394</td></tr>",
                            "<tr><td>NULL</td><td>NULL</td><td>NULL</td><td>29</td><td>4475</td></tr>",
                            "<tr><td>NULL</td><td>NULL</td><td>NULL</td><td>29</td><td>4629</td></tr>",
                            "<tr><td>NULL</td><td>NULL</td><td>NULL</td><td>29</td><td>5090</td></tr>",
                            "<tr><td>NULL</td><td>NULL</td><td>NULL</td><td>29</td><td>5596</td></tr>",
                            "<tr><td>NULL</td><td>NULL</td><td>NULL</td><td>29</td><td>5851</td></tr>",
                            "<tr><td>NULL</td><td>NULL</td><td>NULL</td><td>29</td><td>6104</td></tr>",
                            "<tr><td>NULL</td><td>NULL</td><td>NULL</td><td>30</td><td>47</td></tr>",
                            "<tr><td>The Known World</td><td>3.82</td><td>42</td><td>30</td><td>67</td></tr>",
                            "<tr><td>NULL</td><td>NULL</td><td>NULL</td><td>30</td><td>82</td></tr>",
                            "<tr><td>NULL</td><td>NULL</td><td>NULL</td><td>30</td><td>121</td></tr>",
                            "<tr><td>NULL</td><td>NULL</td><td>NULL</td><td>30</td><td>177</td></tr>",
                            "<tr><td>Tropic of Cancer</td><td>3.71</td><td>205</td><td>30</td><td>249</td></tr>",
                            "<tr><td>NULL</td><td>NULL</td><td>NULL</td><td>30</td><td>297</td></tr>",
                            "<tr><td>NULL</td><td>NULL</td><td>NULL</td><td>30</td><td>407</td></tr>",
                            "<tr><td>NULL</td><td>NULL</td><td>NULL</td><td>30</td><td>426</td></tr>",
                            "<tr><td>NULL</td><td>NULL</td><td>NULL</td><td>30</td><td>430</td></tr>",
                            "<tr><td>NULL</td><td>NULL</td><td>NULL</td><td>30</td><td>442</td></tr>",
                            "<tr><td>NULL</td><td>NULL</td><td>NULL</td><td>30</td><td>516</td></tr>",
                            "<tr><td>NULL</td><td>NULL</td><td>NULL</td><td>30</td><td>658</td></tr>",
                            "<tr><td>NULL</td><td>NULL</td><td>NULL</td><td>30</td><td>895</td></tr>",
                            "<tr><td>NULL</td><td>NULL</td><td>NULL</td><td>30</td><td>1039</td></tr>",
                            "<tr><td>NULL</td><td>NULL</td><td>NULL</td><td>30</td><td>1094</td></tr>",
                            "<tr><td>The Odyssey</td><td>3.73</td><td>1703</td><td>30</td><td>1381</td></tr>",
                            "<tr><td>NULL</td><td>NULL</td><td>NULL</td><td>30</td><td>2117</td></tr>",
                            "<tr><td>NULL</td><td>NULL</td><td>NULL</td><td>30</td><td>2426</td></tr>",
                            "<tr><td>NULL</td><td>NULL</td><td>NULL</td><td>30</td><td>3444</td></tr>",
                            "<tr><td>The Pilgrimage</td><td>3.64</td><td>171</td><td>30</td><td>4004</td></tr>",
                            "<tr><td>NULL</td><td>NULL</td><td>NULL</td><td>30</td><td>4202</td></tr>",
                            "<tr><td>NULL</td><td>NULL</td><td>NULL</td><td>30</td><td>4509</td></tr>",
                            "<tr><td>NULL</td><td>NULL</td><td>NULL</td><td>30</td><td>5880</td></tr>",
                            "<tr><td>The Hobbit</td><td>4.25</td><td>969</td><td>30</td><td>5907</td></tr>",
                            "<tr><td>NULL</td><td>NULL</td><td>NULL</td><td>30</td><td>6828</td></tr>",
                            "<tr><td>NULL</td><td>NULL</td><td>NULL</td><td>30</td><td>7563</td></tr>",
                            "<tr><td>NULL</td><td>NULL</td><td>NULL</td><td>30</td><td>8737</td></tr>",
                            "<tr><td>NULL</td><td>NULL</td><td>NULL</td><td>31</td><td>94</td></tr>",
                            "<tr><td>NULL</td><td>NULL</td><td>NULL</td><td>31</td><td>584</td></tr>",
                            "</table>"
                        ]
                    }
                }
            ],
            "execution_count": 3
        },
        {
            "cell_type": "markdown",
            "source": [
                "## **QUESTION 3:** Exploring FULL JOINS with the **books** and **to\\_read** tables\n",
                "\n",
                "You will need to uncomment the Query to answer the question.\n",
                "\n",
                "**Part A:**  Look at the table and explore how it was populated.  Try manipulating the query to better understand how this table works.  Try adding a WHERE clause, or ORDER BY a column on the **books** table.  Based on your exploration, can you think of when you might want a FULL join rather than a LEFT, RIGHT, or INNER?\n",
                "\n",
                "> Your Answer:"
            ],
            "metadata": {
                "azdata_cell_guid": "8f6b8f22-3e5a-4b87-a2f2-07279f1deb94"
            },
            "attachments": {}
        },
        {
            "cell_type": "code",
            "source": [
                "\n",
                "-- FULL JOIN\n",
                "SELECT TOP 30 b.title, b.average_rating, b.books_count,tr.user_id, tr.book_id\n",
                "FROM BooksDB.dbo.books AS b\n",
                "FULL JOIN BooksDB.dbo.to_read AS tr\n",
                "ON b.book_id = tr.book_id\n",
                "WHERE average_rating  >= 4\n",
                "ORDER BY average_rating DESC"
            ],
            "metadata": {
                "azdata_cell_guid": "7c2a3dff-ef55-4222-aef0-7c0ab4f942eb",
                "tags": [],
                "language": "sql"
            },
            "outputs": [
                {
                    "output_type": "display_data",
                    "data": {
                        "text/html": "(30 rows affected)"
                    },
                    "metadata": {}
                },
                {
                    "output_type": "display_data",
                    "data": {
                        "text/html": "Total execution time: 00:00:02.316"
                    },
                    "metadata": {}
                },
                {
                    "output_type": "execute_result",
                    "metadata": {},
                    "execution_count": 6,
                    "data": {
                        "application/vnd.dataresource+json": {
                            "schema": {
                                "fields": [
                                    {
                                        "name": "title"
                                    },
                                    {
                                        "name": "average_rating"
                                    },
                                    {
                                        "name": "books_count"
                                    },
                                    {
                                        "name": "user_id"
                                    },
                                    {
                                        "name": "book_id"
                                    }
                                ]
                            },
                            "data": [
                                {
                                    "0": "The Complete Calvin and Hobbes",
                                    "1": "4.82",
                                    "2": "14",
                                    "3": "NULL",
                                    "4": "NULL"
                                },
                                {
                                    "0": "Harry Potter Boxed Set, Books 1-5 (Harry Potter, #1-5)",
                                    "1": "4.77",
                                    "2": "11",
                                    "3": "9",
                                    "4": "8"
                                },
                                {
                                    "0": "Harry Potter Boxed Set, Books 1-5 (Harry Potter, #1-5)",
                                    "1": "4.77",
                                    "2": "11",
                                    "3": "245",
                                    "4": "8"
                                },
                                {
                                    "0": "Harry Potter Boxed Set, Books 1-5 (Harry Potter, #1-5)",
                                    "1": "4.77",
                                    "2": "11",
                                    "3": "265",
                                    "4": "8"
                                },
                                {
                                    "0": "Harry Potter Boxed Set, Books 1-5 (Harry Potter, #1-5)",
                                    "1": "4.77",
                                    "2": "11",
                                    "3": "318",
                                    "4": "8"
                                },
                                {
                                    "0": "Harry Potter Boxed Set, Books 1-5 (Harry Potter, #1-5)",
                                    "1": "4.77",
                                    "2": "11",
                                    "3": "361",
                                    "4": "8"
                                },
                                {
                                    "0": "Harry Potter Boxed Set, Books 1-5 (Harry Potter, #1-5)",
                                    "1": "4.77",
                                    "2": "11",
                                    "3": "422",
                                    "4": "8"
                                },
                                {
                                    "0": "Harry Potter Boxed Set, Books 1-5 (Harry Potter, #1-5)",
                                    "1": "4.77",
                                    "2": "11",
                                    "3": "435",
                                    "4": "8"
                                },
                                {
                                    "0": "Harry Potter Boxed Set, Books 1-5 (Harry Potter, #1-5)",
                                    "1": "4.77",
                                    "2": "11",
                                    "3": "457",
                                    "4": "8"
                                },
                                {
                                    "0": "Harry Potter Boxed Set, Books 1-5 (Harry Potter, #1-5)",
                                    "1": "4.77",
                                    "2": "11",
                                    "3": "615",
                                    "4": "8"
                                },
                                {
                                    "0": "Harry Potter Boxed Set, Books 1-5 (Harry Potter, #1-5)",
                                    "1": "4.77",
                                    "2": "11",
                                    "3": "654",
                                    "4": "8"
                                },
                                {
                                    "0": "Harry Potter Boxed Set, Books 1-5 (Harry Potter, #1-5)",
                                    "1": "4.77",
                                    "2": "11",
                                    "3": "1153",
                                    "4": "8"
                                },
                                {
                                    "0": "Harry Potter Boxed Set, Books 1-5 (Harry Potter, #1-5)",
                                    "1": "4.77",
                                    "2": "11",
                                    "3": "1235",
                                    "4": "8"
                                },
                                {
                                    "0": "Harry Potter Boxed Set, Books 1-5 (Harry Potter, #1-5)",
                                    "1": "4.77",
                                    "2": "11",
                                    "3": "1280",
                                    "4": "8"
                                },
                                {
                                    "0": "Harry Potter Boxed Set, Books 1-5 (Harry Potter, #1-5)",
                                    "1": "4.77",
                                    "2": "11",
                                    "3": "1337",
                                    "4": "8"
                                },
                                {
                                    "0": "Harry Potter Boxed Set, Books 1-5 (Harry Potter, #1-5)",
                                    "1": "4.77",
                                    "2": "11",
                                    "3": "1447",
                                    "4": "8"
                                },
                                {
                                    "0": "Harry Potter Boxed Set, Books 1-5 (Harry Potter, #1-5)",
                                    "1": "4.77",
                                    "2": "11",
                                    "3": "1509",
                                    "4": "8"
                                },
                                {
                                    "0": "Harry Potter Boxed Set, Books 1-5 (Harry Potter, #1-5)",
                                    "1": "4.77",
                                    "2": "11",
                                    "3": "1591",
                                    "4": "8"
                                },
                                {
                                    "0": "Harry Potter Boxed Set, Books 1-5 (Harry Potter, #1-5)",
                                    "1": "4.77",
                                    "2": "11",
                                    "3": "1640",
                                    "4": "8"
                                },
                                {
                                    "0": "Harry Potter Boxed Set, Books 1-5 (Harry Potter, #1-5)",
                                    "1": "4.77",
                                    "2": "11",
                                    "3": "1743",
                                    "4": "8"
                                },
                                {
                                    "0": "Harry Potter Boxed Set, Books 1-5 (Harry Potter, #1-5)",
                                    "1": "4.77",
                                    "2": "11",
                                    "3": "1786",
                                    "4": "8"
                                },
                                {
                                    "0": "Harry Potter Boxed Set, Books 1-5 (Harry Potter, #1-5)",
                                    "1": "4.77",
                                    "2": "11",
                                    "3": "1826",
                                    "4": "8"
                                },
                                {
                                    "0": "Harry Potter Boxed Set, Books 1-5 (Harry Potter, #1-5)",
                                    "1": "4.77",
                                    "2": "11",
                                    "3": "1840",
                                    "4": "8"
                                },
                                {
                                    "0": "Harry Potter Boxed Set, Books 1-5 (Harry Potter, #1-5)",
                                    "1": "4.77",
                                    "2": "11",
                                    "3": "1845",
                                    "4": "8"
                                },
                                {
                                    "0": "Harry Potter Boxed Set, Books 1-5 (Harry Potter, #1-5)",
                                    "1": "4.77",
                                    "2": "11",
                                    "3": "1903",
                                    "4": "8"
                                },
                                {
                                    "0": "Harry Potter Boxed Set, Books 1-5 (Harry Potter, #1-5)",
                                    "1": "4.77",
                                    "2": "11",
                                    "3": "1935",
                                    "4": "8"
                                },
                                {
                                    "0": "Harry Potter Boxed Set, Books 1-5 (Harry Potter, #1-5)",
                                    "1": "4.77",
                                    "2": "11",
                                    "3": "1940",
                                    "4": "8"
                                },
                                {
                                    "0": "Harry Potter Boxed Set, Books 1-5 (Harry Potter, #1-5)",
                                    "1": "4.77",
                                    "2": "11",
                                    "3": "2000",
                                    "4": "8"
                                },
                                {
                                    "0": "Harry Potter Boxed Set, Books 1-5 (Harry Potter, #1-5)",
                                    "1": "4.77",
                                    "2": "11",
                                    "3": "2006",
                                    "4": "8"
                                },
                                {
                                    "0": "Harry Potter Boxed Set, Books 1-5 (Harry Potter, #1-5)",
                                    "1": "4.77",
                                    "2": "11",
                                    "3": "2151",
                                    "4": "8"
                                }
                            ]
                        },
                        "text/html": [
                            "<table>",
                            "<tr><th>title</th><th>average_rating</th><th>books_count</th><th>user_id</th><th>book_id</th></tr>",
                            "<tr><td>The Complete Calvin and Hobbes</td><td>4.82</td><td>14</td><td>NULL</td><td>NULL</td></tr>",
                            "<tr><td>Harry Potter Boxed Set, Books 1-5 (Harry Potter, #1-5)</td><td>4.77</td><td>11</td><td>9</td><td>8</td></tr>",
                            "<tr><td>Harry Potter Boxed Set, Books 1-5 (Harry Potter, #1-5)</td><td>4.77</td><td>11</td><td>245</td><td>8</td></tr>",
                            "<tr><td>Harry Potter Boxed Set, Books 1-5 (Harry Potter, #1-5)</td><td>4.77</td><td>11</td><td>265</td><td>8</td></tr>",
                            "<tr><td>Harry Potter Boxed Set, Books 1-5 (Harry Potter, #1-5)</td><td>4.77</td><td>11</td><td>318</td><td>8</td></tr>",
                            "<tr><td>Harry Potter Boxed Set, Books 1-5 (Harry Potter, #1-5)</td><td>4.77</td><td>11</td><td>361</td><td>8</td></tr>",
                            "<tr><td>Harry Potter Boxed Set, Books 1-5 (Harry Potter, #1-5)</td><td>4.77</td><td>11</td><td>422</td><td>8</td></tr>",
                            "<tr><td>Harry Potter Boxed Set, Books 1-5 (Harry Potter, #1-5)</td><td>4.77</td><td>11</td><td>435</td><td>8</td></tr>",
                            "<tr><td>Harry Potter Boxed Set, Books 1-5 (Harry Potter, #1-5)</td><td>4.77</td><td>11</td><td>457</td><td>8</td></tr>",
                            "<tr><td>Harry Potter Boxed Set, Books 1-5 (Harry Potter, #1-5)</td><td>4.77</td><td>11</td><td>615</td><td>8</td></tr>",
                            "<tr><td>Harry Potter Boxed Set, Books 1-5 (Harry Potter, #1-5)</td><td>4.77</td><td>11</td><td>654</td><td>8</td></tr>",
                            "<tr><td>Harry Potter Boxed Set, Books 1-5 (Harry Potter, #1-5)</td><td>4.77</td><td>11</td><td>1153</td><td>8</td></tr>",
                            "<tr><td>Harry Potter Boxed Set, Books 1-5 (Harry Potter, #1-5)</td><td>4.77</td><td>11</td><td>1235</td><td>8</td></tr>",
                            "<tr><td>Harry Potter Boxed Set, Books 1-5 (Harry Potter, #1-5)</td><td>4.77</td><td>11</td><td>1280</td><td>8</td></tr>",
                            "<tr><td>Harry Potter Boxed Set, Books 1-5 (Harry Potter, #1-5)</td><td>4.77</td><td>11</td><td>1337</td><td>8</td></tr>",
                            "<tr><td>Harry Potter Boxed Set, Books 1-5 (Harry Potter, #1-5)</td><td>4.77</td><td>11</td><td>1447</td><td>8</td></tr>",
                            "<tr><td>Harry Potter Boxed Set, Books 1-5 (Harry Potter, #1-5)</td><td>4.77</td><td>11</td><td>1509</td><td>8</td></tr>",
                            "<tr><td>Harry Potter Boxed Set, Books 1-5 (Harry Potter, #1-5)</td><td>4.77</td><td>11</td><td>1591</td><td>8</td></tr>",
                            "<tr><td>Harry Potter Boxed Set, Books 1-5 (Harry Potter, #1-5)</td><td>4.77</td><td>11</td><td>1640</td><td>8</td></tr>",
                            "<tr><td>Harry Potter Boxed Set, Books 1-5 (Harry Potter, #1-5)</td><td>4.77</td><td>11</td><td>1743</td><td>8</td></tr>",
                            "<tr><td>Harry Potter Boxed Set, Books 1-5 (Harry Potter, #1-5)</td><td>4.77</td><td>11</td><td>1786</td><td>8</td></tr>",
                            "<tr><td>Harry Potter Boxed Set, Books 1-5 (Harry Potter, #1-5)</td><td>4.77</td><td>11</td><td>1826</td><td>8</td></tr>",
                            "<tr><td>Harry Potter Boxed Set, Books 1-5 (Harry Potter, #1-5)</td><td>4.77</td><td>11</td><td>1840</td><td>8</td></tr>",
                            "<tr><td>Harry Potter Boxed Set, Books 1-5 (Harry Potter, #1-5)</td><td>4.77</td><td>11</td><td>1845</td><td>8</td></tr>",
                            "<tr><td>Harry Potter Boxed Set, Books 1-5 (Harry Potter, #1-5)</td><td>4.77</td><td>11</td><td>1903</td><td>8</td></tr>",
                            "<tr><td>Harry Potter Boxed Set, Books 1-5 (Harry Potter, #1-5)</td><td>4.77</td><td>11</td><td>1935</td><td>8</td></tr>",
                            "<tr><td>Harry Potter Boxed Set, Books 1-5 (Harry Potter, #1-5)</td><td>4.77</td><td>11</td><td>1940</td><td>8</td></tr>",
                            "<tr><td>Harry Potter Boxed Set, Books 1-5 (Harry Potter, #1-5)</td><td>4.77</td><td>11</td><td>2000</td><td>8</td></tr>",
                            "<tr><td>Harry Potter Boxed Set, Books 1-5 (Harry Potter, #1-5)</td><td>4.77</td><td>11</td><td>2006</td><td>8</td></tr>",
                            "<tr><td>Harry Potter Boxed Set, Books 1-5 (Harry Potter, #1-5)</td><td>4.77</td><td>11</td><td>2151</td><td>8</td></tr>",
                            "</table>"
                        ]
                    }
                }
            ],
            "execution_count": 6
        },
        {
            "cell_type": "markdown",
            "source": [
                "## **QUESTION 4:** Exploring INNER Joins with the **books** and **to\\_read** tables\n",
                "\n",
                "You will need to uncomment the Query to answer the question.\n",
                "\n",
                "**Part A:**  What does an inner join do?\n",
                "\n",
                "> <span style=\"background-color: rgba(127, 127, 127, 0.1); font-family: -apple-system, BlinkMacSystemFont, sans-serif;\">Your Answer: show only rows that are connected from the two tables</span>\n",
                "\n",
                "<span style=\"background-color: rgba(127, 127, 127, 0.1); font-family: -apple-system, BlinkMacSystemFont, sans-serif;\"><b>Part B:</b>&nbsp;Currently this table has an <b>'IS NOT NULL'</b> in the <b>WHERE</b> clause.&nbsp; Is this necessary for this table?&nbsp; Why or Why not?&nbsp;</span>  \n",
                "\n",
                "> Your Answer: it is not necessary, only rows that are populated and are not NULL will be resulted.\n",
                "\n",
                "**Part C:**  When using SQL, you are usually returning much larger tables so every line of code will add to the compilation and return time.  Rewrite this inner join query so that it contains no redundant code.   \n",
                "\n",
                "> Your Answer:  Update the query in the code box below."
            ],
            "metadata": {
                "azdata_cell_guid": "4dab11ce-7995-4444-92dd-4cb2c0bc02c8"
            },
            "attachments": {}
        },
        {
            "cell_type": "code",
            "source": [
                "\n",
                "-- INNER JOIN\n",
                "SELECT TOP 30 b.title, b.average_rating, b.books_count,tr.user_id, tr.book_id\n",
                "FROM BooksDB.dbo.books AS b\n",
                "INNER JOIN BooksDB.dbo.to_read AS tr\n",
                "ON b.book_id = tr.book_id\n",
                "WHERE b.title IS NOT NULL\n",
                "ORDER BY tr.book_id;\n",
                ""
            ],
            "metadata": {
                "azdata_cell_guid": "66d430ab-18aa-4a29-a32d-0585445e417c",
                "tags": [],
                "language": "sql"
            },
            "outputs": [
                {
                    "output_type": "display_data",
                    "data": {
                        "text/html": "(30 rows affected)"
                    },
                    "metadata": {}
                },
                {
                    "output_type": "display_data",
                    "data": {
                        "text/html": "Total execution time: 00:00:00.175"
                    },
                    "metadata": {}
                },
                {
                    "output_type": "execute_result",
                    "metadata": {},
                    "execution_count": 7,
                    "data": {
                        "application/vnd.dataresource+json": {
                            "schema": {
                                "fields": [
                                    {
                                        "name": "title"
                                    },
                                    {
                                        "name": "average_rating"
                                    },
                                    {
                                        "name": "books_count"
                                    },
                                    {
                                        "name": "user_id"
                                    },
                                    {
                                        "name": "book_id"
                                    }
                                ]
                            },
                            "data": [
                                {
                                    "0": "Harry Potter and the Half-Blood Prince (Harry Potter, #6)",
                                    "1": "4.54",
                                    "2": "275",
                                    "3": "12",
                                    "4": "1"
                                },
                                {
                                    "0": "Harry Potter and the Half-Blood Prince (Harry Potter, #6)",
                                    "1": "4.54",
                                    "2": "275",
                                    "3": "192",
                                    "4": "1"
                                },
                                {
                                    "0": "Harry Potter and the Half-Blood Prince (Harry Potter, #6)",
                                    "1": "4.54",
                                    "2": "275",
                                    "3": "202",
                                    "4": "1"
                                },
                                {
                                    "0": "Harry Potter and the Half-Blood Prince (Harry Potter, #6)",
                                    "1": "4.54",
                                    "2": "275",
                                    "3": "244",
                                    "4": "1"
                                },
                                {
                                    "0": "Harry Potter and the Half-Blood Prince (Harry Potter, #6)",
                                    "1": "4.54",
                                    "2": "275",
                                    "3": "253",
                                    "4": "1"
                                },
                                {
                                    "0": "Harry Potter and the Half-Blood Prince (Harry Potter, #6)",
                                    "1": "4.54",
                                    "2": "275",
                                    "3": "350",
                                    "4": "1"
                                },
                                {
                                    "0": "Harry Potter and the Half-Blood Prince (Harry Potter, #6)",
                                    "1": "4.54",
                                    "2": "275",
                                    "3": "478",
                                    "4": "1"
                                },
                                {
                                    "0": "Harry Potter and the Half-Blood Prince (Harry Potter, #6)",
                                    "1": "4.54",
                                    "2": "275",
                                    "3": "511",
                                    "4": "1"
                                },
                                {
                                    "0": "Harry Potter and the Half-Blood Prince (Harry Potter, #6)",
                                    "1": "4.54",
                                    "2": "275",
                                    "3": "525",
                                    "4": "1"
                                },
                                {
                                    "0": "Harry Potter and the Half-Blood Prince (Harry Potter, #6)",
                                    "1": "4.54",
                                    "2": "275",
                                    "3": "527",
                                    "4": "1"
                                },
                                {
                                    "0": "Harry Potter and the Half-Blood Prince (Harry Potter, #6)",
                                    "1": "4.54",
                                    "2": "275",
                                    "3": "552",
                                    "4": "1"
                                },
                                {
                                    "0": "Harry Potter and the Half-Blood Prince (Harry Potter, #6)",
                                    "1": "4.54",
                                    "2": "275",
                                    "3": "644",
                                    "4": "1"
                                },
                                {
                                    "0": "Harry Potter and the Half-Blood Prince (Harry Potter, #6)",
                                    "1": "4.54",
                                    "2": "275",
                                    "3": "754",
                                    "4": "1"
                                },
                                {
                                    "0": "Harry Potter and the Half-Blood Prince (Harry Potter, #6)",
                                    "1": "4.54",
                                    "2": "275",
                                    "3": "826",
                                    "4": "1"
                                },
                                {
                                    "0": "Harry Potter and the Half-Blood Prince (Harry Potter, #6)",
                                    "1": "4.54",
                                    "2": "275",
                                    "3": "1043",
                                    "4": "1"
                                },
                                {
                                    "0": "Harry Potter and the Half-Blood Prince (Harry Potter, #6)",
                                    "1": "4.54",
                                    "2": "275",
                                    "3": "1205",
                                    "4": "1"
                                },
                                {
                                    "0": "Harry Potter and the Half-Blood Prince (Harry Potter, #6)",
                                    "1": "4.54",
                                    "2": "275",
                                    "3": "1442",
                                    "4": "1"
                                },
                                {
                                    "0": "Harry Potter and the Half-Blood Prince (Harry Potter, #6)",
                                    "1": "4.54",
                                    "2": "275",
                                    "3": "1470",
                                    "4": "1"
                                },
                                {
                                    "0": "Harry Potter and the Half-Blood Prince (Harry Potter, #6)",
                                    "1": "4.54",
                                    "2": "275",
                                    "3": "1712",
                                    "4": "1"
                                },
                                {
                                    "0": "Harry Potter and the Half-Blood Prince (Harry Potter, #6)",
                                    "1": "4.54",
                                    "2": "275",
                                    "3": "1814",
                                    "4": "1"
                                },
                                {
                                    "0": "Harry Potter and the Half-Blood Prince (Harry Potter, #6)",
                                    "1": "4.54",
                                    "2": "275",
                                    "3": "1919",
                                    "4": "1"
                                },
                                {
                                    "0": "Harry Potter and the Half-Blood Prince (Harry Potter, #6)",
                                    "1": "4.54",
                                    "2": "275",
                                    "3": "2051",
                                    "4": "1"
                                },
                                {
                                    "0": "Harry Potter and the Half-Blood Prince (Harry Potter, #6)",
                                    "1": "4.54",
                                    "2": "275",
                                    "3": "2052",
                                    "4": "1"
                                },
                                {
                                    "0": "Harry Potter and the Half-Blood Prince (Harry Potter, #6)",
                                    "1": "4.54",
                                    "2": "275",
                                    "3": "2158",
                                    "4": "1"
                                },
                                {
                                    "0": "Harry Potter and the Half-Blood Prince (Harry Potter, #6)",
                                    "1": "4.54",
                                    "2": "275",
                                    "3": "2160",
                                    "4": "1"
                                },
                                {
                                    "0": "Harry Potter and the Half-Blood Prince (Harry Potter, #6)",
                                    "1": "4.54",
                                    "2": "275",
                                    "3": "2345",
                                    "4": "1"
                                },
                                {
                                    "0": "Harry Potter and the Half-Blood Prince (Harry Potter, #6)",
                                    "1": "4.54",
                                    "2": "275",
                                    "3": "2476",
                                    "4": "1"
                                },
                                {
                                    "0": "Harry Potter and the Half-Blood Prince (Harry Potter, #6)",
                                    "1": "4.54",
                                    "2": "275",
                                    "3": "2523",
                                    "4": "1"
                                },
                                {
                                    "0": "Harry Potter and the Half-Blood Prince (Harry Potter, #6)",
                                    "1": "4.54",
                                    "2": "275",
                                    "3": "2623",
                                    "4": "1"
                                },
                                {
                                    "0": "Harry Potter and the Half-Blood Prince (Harry Potter, #6)",
                                    "1": "4.54",
                                    "2": "275",
                                    "3": "2673",
                                    "4": "1"
                                }
                            ]
                        },
                        "text/html": [
                            "<table>",
                            "<tr><th>title</th><th>average_rating</th><th>books_count</th><th>user_id</th><th>book_id</th></tr>",
                            "<tr><td>Harry Potter and the Half-Blood Prince (Harry Potter, #6)</td><td>4.54</td><td>275</td><td>12</td><td>1</td></tr>",
                            "<tr><td>Harry Potter and the Half-Blood Prince (Harry Potter, #6)</td><td>4.54</td><td>275</td><td>192</td><td>1</td></tr>",
                            "<tr><td>Harry Potter and the Half-Blood Prince (Harry Potter, #6)</td><td>4.54</td><td>275</td><td>202</td><td>1</td></tr>",
                            "<tr><td>Harry Potter and the Half-Blood Prince (Harry Potter, #6)</td><td>4.54</td><td>275</td><td>244</td><td>1</td></tr>",
                            "<tr><td>Harry Potter and the Half-Blood Prince (Harry Potter, #6)</td><td>4.54</td><td>275</td><td>253</td><td>1</td></tr>",
                            "<tr><td>Harry Potter and the Half-Blood Prince (Harry Potter, #6)</td><td>4.54</td><td>275</td><td>350</td><td>1</td></tr>",
                            "<tr><td>Harry Potter and the Half-Blood Prince (Harry Potter, #6)</td><td>4.54</td><td>275</td><td>478</td><td>1</td></tr>",
                            "<tr><td>Harry Potter and the Half-Blood Prince (Harry Potter, #6)</td><td>4.54</td><td>275</td><td>511</td><td>1</td></tr>",
                            "<tr><td>Harry Potter and the Half-Blood Prince (Harry Potter, #6)</td><td>4.54</td><td>275</td><td>525</td><td>1</td></tr>",
                            "<tr><td>Harry Potter and the Half-Blood Prince (Harry Potter, #6)</td><td>4.54</td><td>275</td><td>527</td><td>1</td></tr>",
                            "<tr><td>Harry Potter and the Half-Blood Prince (Harry Potter, #6)</td><td>4.54</td><td>275</td><td>552</td><td>1</td></tr>",
                            "<tr><td>Harry Potter and the Half-Blood Prince (Harry Potter, #6)</td><td>4.54</td><td>275</td><td>644</td><td>1</td></tr>",
                            "<tr><td>Harry Potter and the Half-Blood Prince (Harry Potter, #6)</td><td>4.54</td><td>275</td><td>754</td><td>1</td></tr>",
                            "<tr><td>Harry Potter and the Half-Blood Prince (Harry Potter, #6)</td><td>4.54</td><td>275</td><td>826</td><td>1</td></tr>",
                            "<tr><td>Harry Potter and the Half-Blood Prince (Harry Potter, #6)</td><td>4.54</td><td>275</td><td>1043</td><td>1</td></tr>",
                            "<tr><td>Harry Potter and the Half-Blood Prince (Harry Potter, #6)</td><td>4.54</td><td>275</td><td>1205</td><td>1</td></tr>",
                            "<tr><td>Harry Potter and the Half-Blood Prince (Harry Potter, #6)</td><td>4.54</td><td>275</td><td>1442</td><td>1</td></tr>",
                            "<tr><td>Harry Potter and the Half-Blood Prince (Harry Potter, #6)</td><td>4.54</td><td>275</td><td>1470</td><td>1</td></tr>",
                            "<tr><td>Harry Potter and the Half-Blood Prince (Harry Potter, #6)</td><td>4.54</td><td>275</td><td>1712</td><td>1</td></tr>",
                            "<tr><td>Harry Potter and the Half-Blood Prince (Harry Potter, #6)</td><td>4.54</td><td>275</td><td>1814</td><td>1</td></tr>",
                            "<tr><td>Harry Potter and the Half-Blood Prince (Harry Potter, #6)</td><td>4.54</td><td>275</td><td>1919</td><td>1</td></tr>",
                            "<tr><td>Harry Potter and the Half-Blood Prince (Harry Potter, #6)</td><td>4.54</td><td>275</td><td>2051</td><td>1</td></tr>",
                            "<tr><td>Harry Potter and the Half-Blood Prince (Harry Potter, #6)</td><td>4.54</td><td>275</td><td>2052</td><td>1</td></tr>",
                            "<tr><td>Harry Potter and the Half-Blood Prince (Harry Potter, #6)</td><td>4.54</td><td>275</td><td>2158</td><td>1</td></tr>",
                            "<tr><td>Harry Potter and the Half-Blood Prince (Harry Potter, #6)</td><td>4.54</td><td>275</td><td>2160</td><td>1</td></tr>",
                            "<tr><td>Harry Potter and the Half-Blood Prince (Harry Potter, #6)</td><td>4.54</td><td>275</td><td>2345</td><td>1</td></tr>",
                            "<tr><td>Harry Potter and the Half-Blood Prince (Harry Potter, #6)</td><td>4.54</td><td>275</td><td>2476</td><td>1</td></tr>",
                            "<tr><td>Harry Potter and the Half-Blood Prince (Harry Potter, #6)</td><td>4.54</td><td>275</td><td>2523</td><td>1</td></tr>",
                            "<tr><td>Harry Potter and the Half-Blood Prince (Harry Potter, #6)</td><td>4.54</td><td>275</td><td>2623</td><td>1</td></tr>",
                            "<tr><td>Harry Potter and the Half-Blood Prince (Harry Potter, #6)</td><td>4.54</td><td>275</td><td>2673</td><td>1</td></tr>",
                            "</table>"
                        ]
                    }
                }
            ],
            "execution_count": 7
        },
        {
            "cell_type": "code",
            "source": [
                "-- INNER JOIN\r\n",
                "SELECT TOP 30 b.title, b.average_rating, b.books_count,tr.user_id, tr.book_id\r\n",
                "FROM BooksDB.dbo.books AS b\r\n",
                "JOIN BooksDB.dbo.to_read AS tr\r\n",
                "ON b.book_id = tr.book_id\r\n",
                "ORDER BY tr.book_id;"
            ],
            "metadata": {
                "language": "sql",
                "azdata_cell_guid": "a88fda09-fb18-4f33-89e3-65db5947f391"
            },
            "outputs": [
                {
                    "output_type": "display_data",
                    "data": {
                        "text/html": "(30 rows affected)"
                    },
                    "metadata": {}
                },
                {
                    "output_type": "display_data",
                    "data": {
                        "text/html": "Total execution time: 00:00:00.158"
                    },
                    "metadata": {}
                },
                {
                    "output_type": "execute_result",
                    "metadata": {},
                    "execution_count": 8,
                    "data": {
                        "application/vnd.dataresource+json": {
                            "schema": {
                                "fields": [
                                    {
                                        "name": "title"
                                    },
                                    {
                                        "name": "average_rating"
                                    },
                                    {
                                        "name": "books_count"
                                    },
                                    {
                                        "name": "user_id"
                                    },
                                    {
                                        "name": "book_id"
                                    }
                                ]
                            },
                            "data": [
                                {
                                    "0": "Harry Potter and the Half-Blood Prince (Harry Potter, #6)",
                                    "1": "4.54",
                                    "2": "275",
                                    "3": "12",
                                    "4": "1"
                                },
                                {
                                    "0": "Harry Potter and the Half-Blood Prince (Harry Potter, #6)",
                                    "1": "4.54",
                                    "2": "275",
                                    "3": "192",
                                    "4": "1"
                                },
                                {
                                    "0": "Harry Potter and the Half-Blood Prince (Harry Potter, #6)",
                                    "1": "4.54",
                                    "2": "275",
                                    "3": "202",
                                    "4": "1"
                                },
                                {
                                    "0": "Harry Potter and the Half-Blood Prince (Harry Potter, #6)",
                                    "1": "4.54",
                                    "2": "275",
                                    "3": "244",
                                    "4": "1"
                                },
                                {
                                    "0": "Harry Potter and the Half-Blood Prince (Harry Potter, #6)",
                                    "1": "4.54",
                                    "2": "275",
                                    "3": "253",
                                    "4": "1"
                                },
                                {
                                    "0": "Harry Potter and the Half-Blood Prince (Harry Potter, #6)",
                                    "1": "4.54",
                                    "2": "275",
                                    "3": "350",
                                    "4": "1"
                                },
                                {
                                    "0": "Harry Potter and the Half-Blood Prince (Harry Potter, #6)",
                                    "1": "4.54",
                                    "2": "275",
                                    "3": "478",
                                    "4": "1"
                                },
                                {
                                    "0": "Harry Potter and the Half-Blood Prince (Harry Potter, #6)",
                                    "1": "4.54",
                                    "2": "275",
                                    "3": "511",
                                    "4": "1"
                                },
                                {
                                    "0": "Harry Potter and the Half-Blood Prince (Harry Potter, #6)",
                                    "1": "4.54",
                                    "2": "275",
                                    "3": "525",
                                    "4": "1"
                                },
                                {
                                    "0": "Harry Potter and the Half-Blood Prince (Harry Potter, #6)",
                                    "1": "4.54",
                                    "2": "275",
                                    "3": "527",
                                    "4": "1"
                                },
                                {
                                    "0": "Harry Potter and the Half-Blood Prince (Harry Potter, #6)",
                                    "1": "4.54",
                                    "2": "275",
                                    "3": "552",
                                    "4": "1"
                                },
                                {
                                    "0": "Harry Potter and the Half-Blood Prince (Harry Potter, #6)",
                                    "1": "4.54",
                                    "2": "275",
                                    "3": "644",
                                    "4": "1"
                                },
                                {
                                    "0": "Harry Potter and the Half-Blood Prince (Harry Potter, #6)",
                                    "1": "4.54",
                                    "2": "275",
                                    "3": "754",
                                    "4": "1"
                                },
                                {
                                    "0": "Harry Potter and the Half-Blood Prince (Harry Potter, #6)",
                                    "1": "4.54",
                                    "2": "275",
                                    "3": "826",
                                    "4": "1"
                                },
                                {
                                    "0": "Harry Potter and the Half-Blood Prince (Harry Potter, #6)",
                                    "1": "4.54",
                                    "2": "275",
                                    "3": "1043",
                                    "4": "1"
                                },
                                {
                                    "0": "Harry Potter and the Half-Blood Prince (Harry Potter, #6)",
                                    "1": "4.54",
                                    "2": "275",
                                    "3": "1205",
                                    "4": "1"
                                },
                                {
                                    "0": "Harry Potter and the Half-Blood Prince (Harry Potter, #6)",
                                    "1": "4.54",
                                    "2": "275",
                                    "3": "1442",
                                    "4": "1"
                                },
                                {
                                    "0": "Harry Potter and the Half-Blood Prince (Harry Potter, #6)",
                                    "1": "4.54",
                                    "2": "275",
                                    "3": "1470",
                                    "4": "1"
                                },
                                {
                                    "0": "Harry Potter and the Half-Blood Prince (Harry Potter, #6)",
                                    "1": "4.54",
                                    "2": "275",
                                    "3": "1712",
                                    "4": "1"
                                },
                                {
                                    "0": "Harry Potter and the Half-Blood Prince (Harry Potter, #6)",
                                    "1": "4.54",
                                    "2": "275",
                                    "3": "1814",
                                    "4": "1"
                                },
                                {
                                    "0": "Harry Potter and the Half-Blood Prince (Harry Potter, #6)",
                                    "1": "4.54",
                                    "2": "275",
                                    "3": "1919",
                                    "4": "1"
                                },
                                {
                                    "0": "Harry Potter and the Half-Blood Prince (Harry Potter, #6)",
                                    "1": "4.54",
                                    "2": "275",
                                    "3": "2051",
                                    "4": "1"
                                },
                                {
                                    "0": "Harry Potter and the Half-Blood Prince (Harry Potter, #6)",
                                    "1": "4.54",
                                    "2": "275",
                                    "3": "2052",
                                    "4": "1"
                                },
                                {
                                    "0": "Harry Potter and the Half-Blood Prince (Harry Potter, #6)",
                                    "1": "4.54",
                                    "2": "275",
                                    "3": "2158",
                                    "4": "1"
                                },
                                {
                                    "0": "Harry Potter and the Half-Blood Prince (Harry Potter, #6)",
                                    "1": "4.54",
                                    "2": "275",
                                    "3": "2160",
                                    "4": "1"
                                },
                                {
                                    "0": "Harry Potter and the Half-Blood Prince (Harry Potter, #6)",
                                    "1": "4.54",
                                    "2": "275",
                                    "3": "2345",
                                    "4": "1"
                                },
                                {
                                    "0": "Harry Potter and the Half-Blood Prince (Harry Potter, #6)",
                                    "1": "4.54",
                                    "2": "275",
                                    "3": "2476",
                                    "4": "1"
                                },
                                {
                                    "0": "Harry Potter and the Half-Blood Prince (Harry Potter, #6)",
                                    "1": "4.54",
                                    "2": "275",
                                    "3": "2523",
                                    "4": "1"
                                },
                                {
                                    "0": "Harry Potter and the Half-Blood Prince (Harry Potter, #6)",
                                    "1": "4.54",
                                    "2": "275",
                                    "3": "2623",
                                    "4": "1"
                                },
                                {
                                    "0": "Harry Potter and the Half-Blood Prince (Harry Potter, #6)",
                                    "1": "4.54",
                                    "2": "275",
                                    "3": "2673",
                                    "4": "1"
                                }
                            ]
                        },
                        "text/html": [
                            "<table>",
                            "<tr><th>title</th><th>average_rating</th><th>books_count</th><th>user_id</th><th>book_id</th></tr>",
                            "<tr><td>Harry Potter and the Half-Blood Prince (Harry Potter, #6)</td><td>4.54</td><td>275</td><td>12</td><td>1</td></tr>",
                            "<tr><td>Harry Potter and the Half-Blood Prince (Harry Potter, #6)</td><td>4.54</td><td>275</td><td>192</td><td>1</td></tr>",
                            "<tr><td>Harry Potter and the Half-Blood Prince (Harry Potter, #6)</td><td>4.54</td><td>275</td><td>202</td><td>1</td></tr>",
                            "<tr><td>Harry Potter and the Half-Blood Prince (Harry Potter, #6)</td><td>4.54</td><td>275</td><td>244</td><td>1</td></tr>",
                            "<tr><td>Harry Potter and the Half-Blood Prince (Harry Potter, #6)</td><td>4.54</td><td>275</td><td>253</td><td>1</td></tr>",
                            "<tr><td>Harry Potter and the Half-Blood Prince (Harry Potter, #6)</td><td>4.54</td><td>275</td><td>350</td><td>1</td></tr>",
                            "<tr><td>Harry Potter and the Half-Blood Prince (Harry Potter, #6)</td><td>4.54</td><td>275</td><td>478</td><td>1</td></tr>",
                            "<tr><td>Harry Potter and the Half-Blood Prince (Harry Potter, #6)</td><td>4.54</td><td>275</td><td>511</td><td>1</td></tr>",
                            "<tr><td>Harry Potter and the Half-Blood Prince (Harry Potter, #6)</td><td>4.54</td><td>275</td><td>525</td><td>1</td></tr>",
                            "<tr><td>Harry Potter and the Half-Blood Prince (Harry Potter, #6)</td><td>4.54</td><td>275</td><td>527</td><td>1</td></tr>",
                            "<tr><td>Harry Potter and the Half-Blood Prince (Harry Potter, #6)</td><td>4.54</td><td>275</td><td>552</td><td>1</td></tr>",
                            "<tr><td>Harry Potter and the Half-Blood Prince (Harry Potter, #6)</td><td>4.54</td><td>275</td><td>644</td><td>1</td></tr>",
                            "<tr><td>Harry Potter and the Half-Blood Prince (Harry Potter, #6)</td><td>4.54</td><td>275</td><td>754</td><td>1</td></tr>",
                            "<tr><td>Harry Potter and the Half-Blood Prince (Harry Potter, #6)</td><td>4.54</td><td>275</td><td>826</td><td>1</td></tr>",
                            "<tr><td>Harry Potter and the Half-Blood Prince (Harry Potter, #6)</td><td>4.54</td><td>275</td><td>1043</td><td>1</td></tr>",
                            "<tr><td>Harry Potter and the Half-Blood Prince (Harry Potter, #6)</td><td>4.54</td><td>275</td><td>1205</td><td>1</td></tr>",
                            "<tr><td>Harry Potter and the Half-Blood Prince (Harry Potter, #6)</td><td>4.54</td><td>275</td><td>1442</td><td>1</td></tr>",
                            "<tr><td>Harry Potter and the Half-Blood Prince (Harry Potter, #6)</td><td>4.54</td><td>275</td><td>1470</td><td>1</td></tr>",
                            "<tr><td>Harry Potter and the Half-Blood Prince (Harry Potter, #6)</td><td>4.54</td><td>275</td><td>1712</td><td>1</td></tr>",
                            "<tr><td>Harry Potter and the Half-Blood Prince (Harry Potter, #6)</td><td>4.54</td><td>275</td><td>1814</td><td>1</td></tr>",
                            "<tr><td>Harry Potter and the Half-Blood Prince (Harry Potter, #6)</td><td>4.54</td><td>275</td><td>1919</td><td>1</td></tr>",
                            "<tr><td>Harry Potter and the Half-Blood Prince (Harry Potter, #6)</td><td>4.54</td><td>275</td><td>2051</td><td>1</td></tr>",
                            "<tr><td>Harry Potter and the Half-Blood Prince (Harry Potter, #6)</td><td>4.54</td><td>275</td><td>2052</td><td>1</td></tr>",
                            "<tr><td>Harry Potter and the Half-Blood Prince (Harry Potter, #6)</td><td>4.54</td><td>275</td><td>2158</td><td>1</td></tr>",
                            "<tr><td>Harry Potter and the Half-Blood Prince (Harry Potter, #6)</td><td>4.54</td><td>275</td><td>2160</td><td>1</td></tr>",
                            "<tr><td>Harry Potter and the Half-Blood Prince (Harry Potter, #6)</td><td>4.54</td><td>275</td><td>2345</td><td>1</td></tr>",
                            "<tr><td>Harry Potter and the Half-Blood Prince (Harry Potter, #6)</td><td>4.54</td><td>275</td><td>2476</td><td>1</td></tr>",
                            "<tr><td>Harry Potter and the Half-Blood Prince (Harry Potter, #6)</td><td>4.54</td><td>275</td><td>2523</td><td>1</td></tr>",
                            "<tr><td>Harry Potter and the Half-Blood Prince (Harry Potter, #6)</td><td>4.54</td><td>275</td><td>2623</td><td>1</td></tr>",
                            "<tr><td>Harry Potter and the Half-Blood Prince (Harry Potter, #6)</td><td>4.54</td><td>275</td><td>2673</td><td>1</td></tr>",
                            "</table>"
                        ]
                    }
                }
            ],
            "execution_count": 8
        },
        {
            "cell_type": "markdown",
            "source": [
                "## **QUESTION 5:**  Using joins to find the most tagged book and the most popular tag\n",
                "\n",
                "We will be writing 3 queries to find both the most tagged book and that book's most popular tag.\n",
                "\n",
                "**Part A:**  What is the most tagged book?\n",
                "\n",
                "> <span style=\"background-color: rgba(127, 127, 127, 0.1); font-family: -apple-system, BlinkMacSystemFont, sans-serif;\">Start by joining the </span> **books** <span style=\"background-color: rgba(127, 127, 127, 0.1); font-family: -apple-system, BlinkMacSystemFont, sans-serif;\">and </span> **book\\_tags** <span style=\"background-color: rgba(127, 127, 127, 0.1); font-family: -apple-system, BlinkMacSystemFont, sans-serif;\">&nbsp;tables ON the books.best_book_id and book_tags.goodreads_book_id.&nbsp;&nbsp;<br></span> <span style=\"background-color: rgba(127, 127, 127, 0.1); font-family: -apple-system, BlinkMacSystemFont, sans-serif;\">We want the <i>most popular</i> book, so think about ordering the table in a way that will display both the book title and the number of times a book tag has been used.</span>\n",
                "> \n",
                "> _MInimum Desired output:_  The title of the most tagged book, and the number of times the book has been tagged.\n",
                "> \n",
                "> **Title:**\n",
                "\n",
                "**Part B:** How many different tags have been used for the most tagged book?\n",
                "\n",
                "> <span style=\"font-family: -apple-system, BlinkMacSystemFont, sans-serif; background-color: rgba(127, 127, 127, 0.1);\">Start by joining the&nbsp;</span> **books** <span style=\"font-family: -apple-system, BlinkMacSystemFont, sans-serif; background-color: rgba(127, 127, 127, 0.1);\">and&nbsp;</span> **book\\_tags** <span style=\"font-family: -apple-system, BlinkMacSystemFont, sans-serif; background-color: rgba(127, 127, 127, 0.1);\">&nbsp;tables ON the books.best_book_id and book_tags.goodreads_book_id.&nbsp;&nbsp;<br></span> We want to find the _most popular_ tag id, so think about ordering in a way that will display the most popular tag id.\n",
                "> \n",
                "> <span style=\"font-family: -apple-system, BlinkMacSystemFont, sans-serif; background-color: rgba(127, 127, 127, 0.1);\"><i>Minimum Desired Output:</i> The tag id for the most popular tag used for the most tagged book.&nbsp;</span> \n",
                "> \n",
                "> <span style=\"font-family: -apple-system, BlinkMacSystemFont, sans-serif; background-color: rgba(127, 127, 127, 0.1);\"><b>Tag Id:</b></span>\n",
                "\n",
                "<span style=\"font-family: -apple-system, BlinkMacSystemFont, sans-serif; background-color: rgba(127, 127, 127, 0.1);\"><b>Part C: </b>What is this particular tag?</span>\n",
                "\n",
                "> You may return this answer with a simple query.\n",
                "\n",
                "> <span style=\"font-family: -apple-system, BlinkMacSystemFont, sans-serif; background-color: rgba(127, 127, 127, 0.1);\"><i>Minimum Desired Output:</i>&nbsp;The tag name for the most popular tag used for the most tagged book.&nbsp;</span> \n",
                "> \n",
                "> <span style=\"font-family: -apple-system, BlinkMacSystemFont, sans-serif; background-color: rgba(127, 127, 127, 0.1);\"><b>Tag Name:</b></span>"
            ],
            "metadata": {
                "azdata_cell_guid": "a685e9cc-2ae2-40e8-8cc1-022c8064d66d"
            },
            "attachments": {}
        },
        {
            "cell_type": "code",
            "source": [
                "-- Code Here:\r\n",
                "--PART A\r\n",
                "SELECT TOP 1 tag.goodreads_book_id , tag.count, b.title \r\n",
                "FROM BooksDB.dbo.books AS b\r\n",
                "JOIN BooksDB.dbo.book_tags AS tag\r\n",
                "ON b.best_book_id = tag.goodreads_book_id\r\n",
                "ORDER BY tag.count DESC;\r\n",
                "\r\n",
                "--PART B\r\n",
                "SELECT TOP 1 tag.goodreads_book_id , tag.count, b.title, tag.tag_id\r\n",
                "FROM BooksDB.dbo.books AS b\r\n",
                "JOIN BooksDB.dbo.book_tags AS tag\r\n",
                "ON b.best_book_id = tag.goodreads_book_id\r\n",
                "ORDER BY tag.count DESC;\r\n",
                ""
            ],
            "metadata": {
                "azdata_cell_guid": "de3ac253-6b47-4740-8c6e-5f9d1b0ce36b",
                "language": "sql",
                "tags": []
            },
            "outputs": [
                {
                    "output_type": "display_data",
                    "data": {
                        "text/html": "(1 row affected)"
                    },
                    "metadata": {}
                },
                {
                    "output_type": "display_data",
                    "data": {
                        "text/html": "(1 row affected)"
                    },
                    "metadata": {}
                },
                {
                    "output_type": "display_data",
                    "data": {
                        "text/html": "Total execution time: 00:00:00.591"
                    },
                    "metadata": {}
                },
                {
                    "output_type": "execute_result",
                    "metadata": {},
                    "execution_count": 46,
                    "data": {
                        "application/vnd.dataresource+json": {
                            "schema": {
                                "fields": [
                                    {
                                        "name": "goodreads_book_id"
                                    },
                                    {
                                        "name": "count"
                                    },
                                    {
                                        "name": "title"
                                    }
                                ]
                            },
                            "data": [
                                {
                                    "0": "865",
                                    "1": "596234",
                                    "2": "The Alchemist"
                                }
                            ]
                        },
                        "text/html": [
                            "<table>",
                            "<tr><th>goodreads_book_id</th><th>count</th><th>title</th></tr>",
                            "<tr><td>865</td><td>596234</td><td>The Alchemist</td></tr>",
                            "</table>"
                        ]
                    }
                },
                {
                    "output_type": "execute_result",
                    "metadata": {},
                    "execution_count": 46,
                    "data": {
                        "application/vnd.dataresource+json": {
                            "schema": {
                                "fields": [
                                    {
                                        "name": "goodreads_book_id"
                                    },
                                    {
                                        "name": "count"
                                    },
                                    {
                                        "name": "title"
                                    },
                                    {
                                        "name": "tag_id"
                                    }
                                ]
                            },
                            "data": [
                                {
                                    "0": "865",
                                    "1": "596234",
                                    "2": "The Alchemist",
                                    "3": "30574"
                                }
                            ]
                        },
                        "text/html": [
                            "<table>",
                            "<tr><th>goodreads_book_id</th><th>count</th><th>title</th><th>tag_id</th></tr>",
                            "<tr><td>865</td><td>596234</td><td>The Alchemist</td><td>30574</td></tr>",
                            "</table>"
                        ]
                    }
                }
            ],
            "execution_count": 46
        },
        {
            "cell_type": "markdown",
            "source": [
                "## **QUESTION 6:** Find a book based on a tag of your choice using joins.\n",
                "\n",
                "Some suggestions: any hobbies you like? baking, drawing, etc. how about favorite holidays, subjects, animals, etc?\n",
                "\n",
                "**Part A:** Explore the tags table for a tag of your choice.  Suggested ideas, try searching for one of your hobbies, a favorite time of year, favorite animal, etc.  Start by querying the tag table for your chosen tag.  (_Hint:_ in order to make sure you find all combinations of your tags, use the wildcard).  If your query returns more than one result, pick your favorite.\n",
                "\n",
                "> > _Here is an example.  Alyce wanted to search for halloween books.  She used the wildcard, '%halloween%' and 8 different combinations were found.  Alyce selected '**halloween-storytime**', with a tag id of 13877._\n",
                "\n",
                "> _Minimum Desired Output:_ <span style=\"font-family: -apple-system, BlinkMacSystemFont, sans-serif; background-color: rgba(127, 127, 127, 0.1);\">tag name and tag id</span>\n",
                "\n",
                "> **Your Tag and Tag Id: Tag Name : veg-vegan  and Tag Id : 31789**\n",
                "\n",
                "**Part B:** Now that you have the **tag id**, find the title that was tagged the most with this tag by joining the books and books\\_tags tables.\n",
                "\n",
                "> > _Alyce joined the book table with the tags table and discovered that <u>The Little Old Lady Who Was Not Afraid of Anything</u> was tagged as '**halloween-storytime**' the most._\n",
                "\n",
                "> _Minimum Desired Output:_ <span style=\"background-color: rgba(127, 127, 127, 0.1); font-family: -apple-system, BlinkMacSystemFont, sans-serif;\">title and tag count</span>\n",
                "\n",
                "> **Your Title and Number of times the tag was used:  Title is**  **Veganomicon: The Ultimate Vegan Cookbook  and**  **Number of times the tag was used is 4**\n",
                "> \n",
                ">  **is 31789**"
            ],
            "metadata": {
                "azdata_cell_guid": "df783e7e-3aff-4e63-9edb-f2e729c7d1c8"
            },
            "attachments": {}
        },
        {
            "cell_type": "code",
            "source": [
                "-- Code Here:\r\n",
                "-- PART A\r\n",
                "SELECT TOP 10  tag_id, tag_name\r\n",
                "FROM BooksDB.dbo.tags\r\n",
                "WHERE tag_name LIKE '%vegan%'\r\n",
                "\r\n",
                "--PART B\r\n",
                "SELECT TOP 5 tag.count, b.title, tag.tag_id\r\n",
                "FROM BooksDB.dbo.books AS b\r\n",
                "JOIN BooksDB.dbo.book_tags AS tag\r\n",
                "ON b.best_book_id = tag.goodreads_book_id\r\n",
                "WHERE tag.tag_id = 31789\r\n",
                "ORDER BY tag.count DESC;\r\n",
                "\r\n",
                ""
            ],
            "metadata": {
                "azdata_cell_guid": "c4b0b67c-7cfa-4f52-be97-ffe5cc28ed54",
                "tags": [],
                "language": "sql"
            },
            "outputs": [
                {
                    "output_type": "display_data",
                    "data": {
                        "text/html": "(10 rows affected)"
                    },
                    "metadata": {}
                },
                {
                    "output_type": "display_data",
                    "data": {
                        "text/html": "(1 row affected)"
                    },
                    "metadata": {}
                },
                {
                    "output_type": "display_data",
                    "data": {
                        "text/html": "Total execution time: 00:00:00.206"
                    },
                    "metadata": {}
                },
                {
                    "output_type": "execute_result",
                    "metadata": {},
                    "execution_count": 84,
                    "data": {
                        "application/vnd.dataresource+json": {
                            "schema": {
                                "fields": [
                                    {
                                        "name": "tag_id"
                                    },
                                    {
                                        "name": "tag_name"
                                    }
                                ]
                            },
                            "data": [
                                {
                                    "0": "3826",
                                    "1": "baking-vegan"
                                },
                                {
                                    "0": "8146",
                                    "1": "cookbook-vegan"
                                },
                                {
                                    "0": "8198",
                                    "1": "cookbooks-vegan"
                                },
                                {
                                    "0": "8251",
                                    "1": "cooking-vegan"
                                },
                                {
                                    "0": "12248",
                                    "1": "food-vegan"
                                },
                                {
                                    "0": "12270",
                                    "1": "foodie-vegan"
                                },
                                {
                                    "0": "16785",
                                    "1": "just-the-veganing"
                                },
                                {
                                    "0": "31789",
                                    "1": "veg-vegan"
                                },
                                {
                                    "0": "31790",
                                    "1": "vegan"
                                },
                                {
                                    "0": "31791",
                                    "1": "vegan-books"
                                }
                            ]
                        },
                        "text/html": [
                            "<table>",
                            "<tr><th>tag_id</th><th>tag_name</th></tr>",
                            "<tr><td>3826</td><td>baking-vegan</td></tr>",
                            "<tr><td>8146</td><td>cookbook-vegan</td></tr>",
                            "<tr><td>8198</td><td>cookbooks-vegan</td></tr>",
                            "<tr><td>8251</td><td>cooking-vegan</td></tr>",
                            "<tr><td>12248</td><td>food-vegan</td></tr>",
                            "<tr><td>12270</td><td>foodie-vegan</td></tr>",
                            "<tr><td>16785</td><td>just-the-veganing</td></tr>",
                            "<tr><td>31789</td><td>veg-vegan</td></tr>",
                            "<tr><td>31790</td><td>vegan</td></tr>",
                            "<tr><td>31791</td><td>vegan-books</td></tr>",
                            "</table>"
                        ]
                    }
                },
                {
                    "output_type": "execute_result",
                    "metadata": {},
                    "execution_count": 84,
                    "data": {
                        "application/vnd.dataresource+json": {
                            "schema": {
                                "fields": [
                                    {
                                        "name": "count"
                                    },
                                    {
                                        "name": "title"
                                    },
                                    {
                                        "name": "tag_id"
                                    }
                                ]
                            },
                            "data": [
                                {
                                    "0": "4",
                                    "1": "Veganomicon: The Ultimate Vegan Cookbook",
                                    "2": "31789"
                                }
                            ]
                        },
                        "text/html": [
                            "<table>",
                            "<tr><th>count</th><th>title</th><th>tag_id</th></tr>",
                            "<tr><td>4</td><td>Veganomicon: The Ultimate Vegan Cookbook</td><td>31789</td></tr>",
                            "</table>"
                        ]
                    }
                }
            ],
            "execution_count": 84
        },
        {
            "cell_type": "markdown",
            "source": [
                "## **QUESTION 7:** What are the top 10 most popular book titles on the 'to read' list?\n",
                "\n",
                "**Part A:**  Explore how the **to\\_read** and **books** tables are organized, and then join them.  What will you use as a key?\n",
                "\n",
                "> Your Answer: book\\_id from books table , and book\\_id from to\\_read table\n",
                "\n",
                "**Part B:** Organize your newly joined table in a way that groups popularity based on the title based on users.\n",
                "\n",
                "> _Hint:_ Suggest using an alias for the aggregation you will need to run on the **user\\_id**\n",
                "\n",
                "> _Minimum Desired Output:_ title and aliased column"
            ],
            "metadata": {
                "azdata_cell_guid": "4e5349b7-24f6-481a-9d88-bb4f86abc624"
            },
            "attachments": {}
        },
        {
            "cell_type": "code",
            "source": [
                "-- Code Here:\r\n",
                "-- PART A\r\n",
                "SELECT TOP 10  b.title, COUNT(r.user_id) AS 'users_count'\r\n",
                "FROM BooksDB.dbo.books AS b\r\n",
                "JOIN BooksDB.dbo.to_read AS r\r\n",
                "ON b.book_id = r.book_id\r\n",
                "GROUP BY b.title \r\n",
                "ORDER BY 'users_count'  DESC"
            ],
            "metadata": {
                "azdata_cell_guid": "8af25df1-ce61-4152-8198-0b53c17642d0",
                "language": "sql",
                "tags": []
            },
            "outputs": [
                {
                    "output_type": "display_data",
                    "data": {
                        "text/html": "(10 rows affected)"
                    },
                    "metadata": {}
                },
                {
                    "output_type": "display_data",
                    "data": {
                        "text/html": "Total execution time: 00:00:00.277"
                    },
                    "metadata": {}
                },
                {
                    "output_type": "execute_result",
                    "metadata": {},
                    "execution_count": 116,
                    "data": {
                        "application/vnd.dataresource+json": {
                            "schema": {
                                "fields": [
                                    {
                                        "name": "title"
                                    },
                                    {
                                        "name": "users_count"
                                    }
                                ]
                            },
                            "data": [
                                {
                                    "0": "The Ultimate Hitchhiker's Guide to the Galaxy",
                                    "1": "1812"
                                },
                                {
                                    "0": "The Hitchhiker's Guide to the Galaxy (Hitchhiker's Guide to the Galaxy, #1)",
                                    "1": "1767"
                                },
                                {
                                    "0": "The Lord of the Rings: The Art of The Fellowship of the Ring",
                                    "1": "1499"
                                },
                                {
                                    "0": "Harry Potter Boxed Set, Books 1-5 (Harry Potter, #1-5)",
                                    "1": "1498"
                                },
                                {
                                    "0": "Harry Potter and the Goblet of Fire (Harry Potter, #4)",
                                    "1": "1484"
                                },
                                {
                                    "0": "The Known World",
                                    "1": "1352"
                                },
                                {
                                    "0": "Harry Potter and the Prisoner of Azkaban (Harry Potter, #3)",
                                    "1": "1293"
                                },
                                {
                                    "0": "The Lord of the Rings: Weapons and Warfare",
                                    "1": "1211"
                                },
                                {
                                    "0": "Notes from a Small Island",
                                    "1": "1148"
                                },
                                {
                                    "0": "Harry Potter Collection (Harry Potter, #1-6)",
                                    "1": "1110"
                                }
                            ]
                        },
                        "text/html": [
                            "<table>",
                            "<tr><th>title</th><th>users_count</th></tr>",
                            "<tr><td>The Ultimate Hitchhiker's Guide to the Galaxy</td><td>1812</td></tr>",
                            "<tr><td>The Hitchhiker's Guide to the Galaxy (Hitchhiker's Guide to the Galaxy, #1)</td><td>1767</td></tr>",
                            "<tr><td>The Lord of the Rings: The Art of The Fellowship of the Ring</td><td>1499</td></tr>",
                            "<tr><td>Harry Potter Boxed Set, Books 1-5 (Harry Potter, #1-5)</td><td>1498</td></tr>",
                            "<tr><td>Harry Potter and the Goblet of Fire (Harry Potter, #4)</td><td>1484</td></tr>",
                            "<tr><td>The Known World</td><td>1352</td></tr>",
                            "<tr><td>Harry Potter and the Prisoner of Azkaban (Harry Potter, #3)</td><td>1293</td></tr>",
                            "<tr><td>The Lord of the Rings: Weapons and Warfare</td><td>1211</td></tr>",
                            "<tr><td>Notes from a Small Island</td><td>1148</td></tr>",
                            "<tr><td>Harry Potter Collection (Harry Potter, #1-6)</td><td>1110</td></tr>",
                            "</table>"
                        ]
                    }
                }
            ],
            "execution_count": 116
        },
        {
            "cell_type": "markdown",
            "source": [
                "## **QUESTION 8:** Largest 'To Read' Lists\n",
                "\n",
                "**Part A:**  Create a query that returns a table that contains the top 10 users with the most number of titles on their 'to read' list.    Group all the entries by user\\_id.  \n",
                "\n",
                "> _Hint:_ You might want an alias for the titles.\n",
                "> \n",
                "> _Minimum Desired Output:_  user\\_id and your aliased column of titles.\n",
                "\n",
                "**Part B:**  The longest list length is 15 titles total, and is shared by 4 different users.  Select one of the uses and print out their entire '**to read**' list."
            ],
            "metadata": {
                "azdata_cell_guid": "0b0090b0-2b28-44c6-8bb6-06b4c03c3ff1"
            },
            "attachments": {}
        },
        {
            "cell_type": "code",
            "source": [
                "-- Code Here:\r\n",
                "--PART A\r\n",
                "SELECT TOP 10  COUNT(b.title) AS 'number_of_titles' , r.user_id\r\n",
                "FROM BooksDB.dbo.books AS b\r\n",
                "JOIN BooksDB.dbo.to_read AS r\r\n",
                "ON b.best_book_id = r.book_id\r\n",
                "GROUP BY r.user_id \r\n",
                "ORDER BY COUNT(b.title) DESC\r\n",
                "\r\n",
                "--PART B -1\r\n",
                "SELECT TOP 10 COUNT(b.title) AS number_of_titles, r.user_id\r\n",
                "FROM BooksDB.dbo.books AS b\r\n",
                "JOIN BooksDB.dbo.to_read AS r\r\n",
                "ON b.best_book_id = r.book_id\r\n",
                "GROUP BY r.user_id \r\n",
                "HAVING COUNT(b.title) = 15;\r\n",
                "\r\n",
                "--PART B- 2\r\n",
                "SELECT TOP 15 b.title, r.user_id\r\n",
                "FROM BooksDB.dbo.books AS b\r\n",
                "JOIN BooksDB.dbo.to_read AS r\r\n",
                "ON b.best_book_id = r.book_id\r\n",
                "WHERE r.user_id = 14771;"
            ],
            "metadata": {
                "azdata_cell_guid": "c6c815f8-890d-4163-be63-3d300e320597",
                "tags": [],
                "language": "sql"
            },
            "outputs": [
                {
                    "output_type": "display_data",
                    "data": {
                        "text/html": "(10 rows affected)"
                    },
                    "metadata": {}
                },
                {
                    "output_type": "display_data",
                    "data": {
                        "text/html": "(4 rows affected)"
                    },
                    "metadata": {}
                },
                {
                    "output_type": "display_data",
                    "data": {
                        "text/html": "(15 rows affected)"
                    },
                    "metadata": {}
                },
                {
                    "output_type": "display_data",
                    "data": {
                        "text/html": "Total execution time: 00:00:00.364"
                    },
                    "metadata": {}
                },
                {
                    "output_type": "execute_result",
                    "metadata": {},
                    "execution_count": 114,
                    "data": {
                        "application/vnd.dataresource+json": {
                            "schema": {
                                "fields": [
                                    {
                                        "name": "number_of_titles"
                                    },
                                    {
                                        "name": "user_id"
                                    }
                                ]
                            },
                            "data": [
                                {
                                    "0": "15",
                                    "1": "14771"
                                },
                                {
                                    "0": "15",
                                    "1": "38201"
                                },
                                {
                                    "0": "15",
                                    "1": "11932"
                                },
                                {
                                    "0": "15",
                                    "1": "12483"
                                },
                                {
                                    "0": "14",
                                    "1": "27933"
                                },
                                {
                                    "0": "14",
                                    "1": "36923"
                                },
                                {
                                    "0": "14",
                                    "1": "37359"
                                },
                                {
                                    "0": "13",
                                    "1": "6772"
                                },
                                {
                                    "0": "13",
                                    "1": "51137"
                                },
                                {
                                    "0": "13",
                                    "1": "42636"
                                }
                            ]
                        },
                        "text/html": [
                            "<table>",
                            "<tr><th>number_of_titles</th><th>user_id</th></tr>",
                            "<tr><td>15</td><td>14771</td></tr>",
                            "<tr><td>15</td><td>38201</td></tr>",
                            "<tr><td>15</td><td>11932</td></tr>",
                            "<tr><td>15</td><td>12483</td></tr>",
                            "<tr><td>14</td><td>27933</td></tr>",
                            "<tr><td>14</td><td>36923</td></tr>",
                            "<tr><td>14</td><td>37359</td></tr>",
                            "<tr><td>13</td><td>6772</td></tr>",
                            "<tr><td>13</td><td>51137</td></tr>",
                            "<tr><td>13</td><td>42636</td></tr>",
                            "</table>"
                        ]
                    }
                },
                {
                    "output_type": "execute_result",
                    "metadata": {},
                    "execution_count": 114,
                    "data": {
                        "application/vnd.dataresource+json": {
                            "schema": {
                                "fields": [
                                    {
                                        "name": "number_of_titles"
                                    },
                                    {
                                        "name": "user_id"
                                    }
                                ]
                            },
                            "data": [
                                {
                                    "0": "15",
                                    "1": "11932"
                                },
                                {
                                    "0": "15",
                                    "1": "14771"
                                },
                                {
                                    "0": "15",
                                    "1": "38201"
                                },
                                {
                                    "0": "15",
                                    "1": "12483"
                                }
                            ]
                        },
                        "text/html": [
                            "<table>",
                            "<tr><th>number_of_titles</th><th>user_id</th></tr>",
                            "<tr><td>15</td><td>11932</td></tr>",
                            "<tr><td>15</td><td>14771</td></tr>",
                            "<tr><td>15</td><td>38201</td></tr>",
                            "<tr><td>15</td><td>12483</td></tr>",
                            "</table>"
                        ]
                    }
                },
                {
                    "output_type": "execute_result",
                    "metadata": {},
                    "execution_count": 114,
                    "data": {
                        "application/vnd.dataresource+json": {
                            "schema": {
                                "fields": [
                                    {
                                        "name": "title"
                                    },
                                    {
                                        "name": "user_id"
                                    }
                                ]
                            },
                            "data": [
                                {
                                    "0": "The Fellowship of the Ring (The Lord of the Rings, #1)",
                                    "1": "14771"
                                },
                                {
                                    "0": "Harry Potter and the Order of the Phoenix (Harry Potter, #5)",
                                    "1": "14771"
                                },
                                {
                                    "0": "Harry Potter and the Goblet of Fire (Harry Potter, #4)",
                                    "1": "14771"
                                },
                                {
                                    "0": "J.R.R. Tolkien 4-Book Boxed Set: The Hobbit and The Lord of the Rings",
                                    "1": "14771"
                                },
                                {
                                    "0": "In a Sunburned Country",
                                    "1": "14771"
                                },
                                {
                                    "0": "A Widow for One Year",
                                    "1": "14771"
                                },
                                {
                                    "0": "Tropic of Cancer",
                                    "1": "14771"
                                },
                                {
                                    "0": "The Iliad/The Odyssey",
                                    "1": "14771"
                                },
                                {
                                    "0": "The Lost Continent: Travels in Small Town America",
                                    "1": "14771"
                                },
                                {
                                    "0": "The New York Trilogy",
                                    "1": "14771"
                                },
                                {
                                    "0": "The Lord of the Rings: The Art of The Fellowship of the Ring",
                                    "1": "14771"
                                },
                                {
                                    "0": "The Known World",
                                    "1": "14771"
                                },
                                {
                                    "0": "Ten Apples Up On Top!",
                                    "1": "14771"
                                },
                                {
                                    "0": "Leviathan",
                                    "1": "14771"
                                },
                                {
                                    "0": "What to Expect the First Year (What to Expect)",
                                    "1": "14771"
                                }
                            ]
                        },
                        "text/html": [
                            "<table>",
                            "<tr><th>title</th><th>user_id</th></tr>",
                            "<tr><td>The Fellowship of the Ring (The Lord of the Rings, #1)</td><td>14771</td></tr>",
                            "<tr><td>Harry Potter and the Order of the Phoenix (Harry Potter, #5)</td><td>14771</td></tr>",
                            "<tr><td>Harry Potter and the Goblet of Fire (Harry Potter, #4)</td><td>14771</td></tr>",
                            "<tr><td>J.R.R. Tolkien 4-Book Boxed Set: The Hobbit and The Lord of the Rings</td><td>14771</td></tr>",
                            "<tr><td>In a Sunburned Country</td><td>14771</td></tr>",
                            "<tr><td>A Widow for One Year</td><td>14771</td></tr>",
                            "<tr><td>Tropic of Cancer</td><td>14771</td></tr>",
                            "<tr><td>The Iliad/The Odyssey</td><td>14771</td></tr>",
                            "<tr><td>The Lost Continent: Travels in Small Town America</td><td>14771</td></tr>",
                            "<tr><td>The New York Trilogy</td><td>14771</td></tr>",
                            "<tr><td>The Lord of the Rings: The Art of The Fellowship of the Ring</td><td>14771</td></tr>",
                            "<tr><td>The Known World</td><td>14771</td></tr>",
                            "<tr><td>Ten Apples Up On Top!</td><td>14771</td></tr>",
                            "<tr><td>Leviathan</td><td>14771</td></tr>",
                            "<tr><td>What to Expect the First Year (What to Expect)</td><td>14771</td></tr>",
                            "</table>"
                        ]
                    }
                }
            ],
            "execution_count": 114
        }
    ]
}